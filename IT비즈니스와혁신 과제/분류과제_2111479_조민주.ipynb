{
  "nbformat": 4,
  "nbformat_minor": 0,
  "metadata": {
    "colab": {
      "provenance": []
    },
    "kernelspec": {
      "name": "python3",
      "display_name": "Python 3"
    },
    "language_info": {
      "name": "python"
    }
  },
  "cells": [
    {
      "cell_type": "markdown",
      "source": [
        "##분류"
      ],
      "metadata": {
        "id": "kXSJ6BNKN2Yp"
      }
    },
    {
      "cell_type": "code",
      "execution_count": 80,
      "metadata": {
        "colab": {
          "base_uri": "https://localhost:8080/"
        },
        "id": "7U6BW1FYOCdc",
        "outputId": "733dcde3-3c8a-4f56-f2f9-1a4d8139cdc6"
      },
      "outputs": [
        {
          "output_type": "stream",
          "name": "stdout",
          "text": [
            "Looking in indexes: https://pypi.org/simple, https://us-python.pkg.dev/colab-wheels/public/simple/\n",
            "Requirement already satisfied: mglearn in /usr/local/lib/python3.7/dist-packages (0.1.9)\n",
            "Requirement already satisfied: scikit-learn in /usr/local/lib/python3.7/dist-packages (from mglearn) (1.0.2)\n",
            "Requirement already satisfied: joblib in /usr/local/lib/python3.7/dist-packages (from mglearn) (1.1.0)\n",
            "Requirement already satisfied: numpy in /usr/local/lib/python3.7/dist-packages (from mglearn) (1.21.6)\n",
            "Requirement already satisfied: pandas in /usr/local/lib/python3.7/dist-packages (from mglearn) (1.3.5)\n",
            "Requirement already satisfied: imageio in /usr/local/lib/python3.7/dist-packages (from mglearn) (2.9.0)\n",
            "Requirement already satisfied: cycler in /usr/local/lib/python3.7/dist-packages (from mglearn) (0.11.0)\n",
            "Requirement already satisfied: matplotlib in /usr/local/lib/python3.7/dist-packages (from mglearn) (3.2.2)\n",
            "Requirement already satisfied: pillow in /usr/local/lib/python3.7/dist-packages (from mglearn) (7.1.2)\n",
            "Requirement already satisfied: kiwisolver>=1.0.1 in /usr/local/lib/python3.7/dist-packages (from matplotlib->mglearn) (1.4.4)\n",
            "Requirement already satisfied: python-dateutil>=2.1 in /usr/local/lib/python3.7/dist-packages (from matplotlib->mglearn) (2.8.2)\n",
            "Requirement already satisfied: pyparsing!=2.0.4,!=2.1.2,!=2.1.6,>=2.0.1 in /usr/local/lib/python3.7/dist-packages (from matplotlib->mglearn) (3.0.9)\n",
            "Requirement already satisfied: typing-extensions in /usr/local/lib/python3.7/dist-packages (from kiwisolver>=1.0.1->matplotlib->mglearn) (4.1.1)\n",
            "Requirement already satisfied: six>=1.5 in /usr/local/lib/python3.7/dist-packages (from python-dateutil>=2.1->matplotlib->mglearn) (1.15.0)\n",
            "Requirement already satisfied: pytz>=2017.3 in /usr/local/lib/python3.7/dist-packages (from pandas->mglearn) (2022.6)\n",
            "Requirement already satisfied: threadpoolctl>=2.0.0 in /usr/local/lib/python3.7/dist-packages (from scikit-learn->mglearn) (3.1.0)\n",
            "Requirement already satisfied: scipy>=1.1.0 in /usr/local/lib/python3.7/dist-packages (from scikit-learn->mglearn) (1.7.3)\n"
          ]
        }
      ],
      "source": [
        "!pip install mglearn "
      ]
    },
    {
      "cell_type": "code",
      "source": [
        "!pip install --upgrade joblib==1.1.0"
      ],
      "metadata": {
        "colab": {
          "base_uri": "https://localhost:8080/"
        },
        "id": "xdgLdoKrOIBn",
        "outputId": "144409f9-8ccd-4564-c631-f97558c9cac1"
      },
      "execution_count": 81,
      "outputs": [
        {
          "output_type": "stream",
          "name": "stdout",
          "text": [
            "Looking in indexes: https://pypi.org/simple, https://us-python.pkg.dev/colab-wheels/public/simple/\n",
            "Requirement already satisfied: joblib==1.1.0 in /usr/local/lib/python3.7/dist-packages (1.1.0)\n"
          ]
        }
      ]
    },
    {
      "cell_type": "code",
      "source": [
        "import mglearn"
      ],
      "metadata": {
        "id": "kjlfiE-2OMUB"
      },
      "execution_count": 3,
      "outputs": []
    },
    {
      "cell_type": "code",
      "source": [
        "from google.colab import drive\n",
        "drive.mount('/content/drive')"
      ],
      "metadata": {
        "colab": {
          "base_uri": "https://localhost:8080/"
        },
        "id": "xU4ABLPQOS5d",
        "outputId": "c1cbffaa-d803-4657-8d20-d132466626d6"
      },
      "execution_count": 4,
      "outputs": [
        {
          "output_type": "stream",
          "name": "stdout",
          "text": [
            "Mounted at /content/drive\n"
          ]
        }
      ]
    },
    {
      "cell_type": "code",
      "source": [
        "%matplotlib inline\n",
        "import pandas as pd\n",
        "import seaborn as sns           # Seaborn 로딩하기\n",
        "import matplotlib.pyplot as plt"
      ],
      "metadata": {
        "id": "7ww2mHOvObiu"
      },
      "execution_count": 82,
      "outputs": []
    },
    {
      "cell_type": "code",
      "source": [
        "wisc = pd.read_csv(\"/content/drive/My Drive/Colab Notebooks/ITB/health_data.csv\")\n",
        "\n",
        "print(wisc.columns)\n",
        "display(wisc.info())     \n",
        "display(wisc.head()) \n",
        "#1=female, 0=male"
      ],
      "metadata": {
        "colab": {
          "base_uri": "https://localhost:8080/",
          "height": 884
        },
        "id": "4wWgSuDaOjSO",
        "outputId": "91473cdb-d1e4-404d-d44b-41fbc44a8555"
      },
      "execution_count": 83,
      "outputs": [
        {
          "output_type": "stream",
          "name": "stdout",
          "text": [
            "Index(['SIDO', 'SEX', 'AGE_GROUP', 'HEIGHT', 'WEIGHT', 'BP_HIGH', 'BP_LWST',\n",
            "       'BLDS', 'TOT_CHOLE', 'TRIGLYCERIDE', 'HDL_CHOLE', 'LDL_CHOLE', 'HMG',\n",
            "       'OLIG_PROTE_CD', 'CREATININE', 'SGOT_AST', 'SGPT_ALT', 'GAMMA_GTP',\n",
            "       'SMK', 'DRK', 'height(m)', 'HEIGHT*2', 'BMI'],\n",
            "      dtype='object')\n",
            "<class 'pandas.core.frame.DataFrame'>\n",
            "RangeIndex: 4043 entries, 0 to 4042\n",
            "Data columns (total 23 columns):\n",
            " #   Column         Non-Null Count  Dtype  \n",
            "---  ------         --------------  -----  \n",
            " 0   SIDO           4043 non-null   int64  \n",
            " 1   SEX            4043 non-null   int64  \n",
            " 2   AGE_GROUP      4043 non-null   int64  \n",
            " 3   HEIGHT         4043 non-null   int64  \n",
            " 4   WEIGHT         4043 non-null   int64  \n",
            " 5   BP_HIGH        4043 non-null   int64  \n",
            " 6   BP_LWST        4043 non-null   int64  \n",
            " 7   BLDS           4043 non-null   int64  \n",
            " 8   TOT_CHOLE      4043 non-null   int64  \n",
            " 9   TRIGLYCERIDE   4043 non-null   int64  \n",
            " 10  HDL_CHOLE      4043 non-null   float64\n",
            " 11  LDL_CHOLE      3976 non-null   float64\n",
            " 12  HMG            4043 non-null   float64\n",
            " 13  OLIG_PROTE_CD  4022 non-null   float64\n",
            " 14  CREATININE     4043 non-null   float64\n",
            " 15  SGOT_AST       4043 non-null   int64  \n",
            " 16  SGPT_ALT       4043 non-null   int64  \n",
            " 17  GAMMA_GTP      4043 non-null   int64  \n",
            " 18  SMK            4043 non-null   int64  \n",
            " 19  DRK            4043 non-null   int64  \n",
            " 20  height(m)      4043 non-null   float64\n",
            " 21  HEIGHT*2       4043 non-null   float64\n",
            " 22  BMI            4043 non-null   float64\n",
            "dtypes: float64(8), int64(15)\n",
            "memory usage: 726.6 KB\n"
          ]
        },
        {
          "output_type": "display_data",
          "data": {
            "text/plain": [
              "None"
            ]
          },
          "metadata": {}
        },
        {
          "output_type": "display_data",
          "data": {
            "text/plain": [
              "   SIDO  SEX  AGE_GROUP  HEIGHT  WEIGHT  BP_HIGH  BP_LWST  BLDS  TOT_CHOLE  \\\n",
              "0    36    0          9     165      60      127       79    90        188   \n",
              "1    41    1         12     155      50      144       89   110        220   \n",
              "2    27    0          9     185      85      114       72    86        234   \n",
              "3    44    0          9     165      80      112       73   250        119   \n",
              "4    41    1         17     150      50      136       65   104        177   \n",
              "\n",
              "   TRIGLYCERIDE  ...  OLIG_PROTE_CD  CREATININE  SGOT_AST  SGPT_ALT  \\\n",
              "0            58  ...            1.0         1.1        21        27   \n",
              "1           171  ...            1.0         0.7        18        17   \n",
              "2           183  ...            1.0         1.1        25        32   \n",
              "3           265  ...            1.0         0.7        18        20   \n",
              "4            61  ...            1.0         0.7        42        48   \n",
              "\n",
              "   GAMMA_GTP  SMK  DRK  height(m)  HEIGHT*2        BMI  \n",
              "0         21    0    0       1.65    2.7225  22.038567  \n",
              "1         14    0    0       1.55    2.4025  20.811655  \n",
              "2         26    1    1       1.85    3.4225  24.835646  \n",
              "3         35    1    1       1.65    2.7225  29.384757  \n",
              "4         39    0    0       1.50    2.2500  22.222222  \n",
              "\n",
              "[5 rows x 23 columns]"
            ],
            "text/html": [
              "\n",
              "  <div id=\"df-f5b48486-a5c0-4376-8e7e-88dc0ba7586c\">\n",
              "    <div class=\"colab-df-container\">\n",
              "      <div>\n",
              "<style scoped>\n",
              "    .dataframe tbody tr th:only-of-type {\n",
              "        vertical-align: middle;\n",
              "    }\n",
              "\n",
              "    .dataframe tbody tr th {\n",
              "        vertical-align: top;\n",
              "    }\n",
              "\n",
              "    .dataframe thead th {\n",
              "        text-align: right;\n",
              "    }\n",
              "</style>\n",
              "<table border=\"1\" class=\"dataframe\">\n",
              "  <thead>\n",
              "    <tr style=\"text-align: right;\">\n",
              "      <th></th>\n",
              "      <th>SIDO</th>\n",
              "      <th>SEX</th>\n",
              "      <th>AGE_GROUP</th>\n",
              "      <th>HEIGHT</th>\n",
              "      <th>WEIGHT</th>\n",
              "      <th>BP_HIGH</th>\n",
              "      <th>BP_LWST</th>\n",
              "      <th>BLDS</th>\n",
              "      <th>TOT_CHOLE</th>\n",
              "      <th>TRIGLYCERIDE</th>\n",
              "      <th>...</th>\n",
              "      <th>OLIG_PROTE_CD</th>\n",
              "      <th>CREATININE</th>\n",
              "      <th>SGOT_AST</th>\n",
              "      <th>SGPT_ALT</th>\n",
              "      <th>GAMMA_GTP</th>\n",
              "      <th>SMK</th>\n",
              "      <th>DRK</th>\n",
              "      <th>height(m)</th>\n",
              "      <th>HEIGHT*2</th>\n",
              "      <th>BMI</th>\n",
              "    </tr>\n",
              "  </thead>\n",
              "  <tbody>\n",
              "    <tr>\n",
              "      <th>0</th>\n",
              "      <td>36</td>\n",
              "      <td>0</td>\n",
              "      <td>9</td>\n",
              "      <td>165</td>\n",
              "      <td>60</td>\n",
              "      <td>127</td>\n",
              "      <td>79</td>\n",
              "      <td>90</td>\n",
              "      <td>188</td>\n",
              "      <td>58</td>\n",
              "      <td>...</td>\n",
              "      <td>1.0</td>\n",
              "      <td>1.1</td>\n",
              "      <td>21</td>\n",
              "      <td>27</td>\n",
              "      <td>21</td>\n",
              "      <td>0</td>\n",
              "      <td>0</td>\n",
              "      <td>1.65</td>\n",
              "      <td>2.7225</td>\n",
              "      <td>22.038567</td>\n",
              "    </tr>\n",
              "    <tr>\n",
              "      <th>1</th>\n",
              "      <td>41</td>\n",
              "      <td>1</td>\n",
              "      <td>12</td>\n",
              "      <td>155</td>\n",
              "      <td>50</td>\n",
              "      <td>144</td>\n",
              "      <td>89</td>\n",
              "      <td>110</td>\n",
              "      <td>220</td>\n",
              "      <td>171</td>\n",
              "      <td>...</td>\n",
              "      <td>1.0</td>\n",
              "      <td>0.7</td>\n",
              "      <td>18</td>\n",
              "      <td>17</td>\n",
              "      <td>14</td>\n",
              "      <td>0</td>\n",
              "      <td>0</td>\n",
              "      <td>1.55</td>\n",
              "      <td>2.4025</td>\n",
              "      <td>20.811655</td>\n",
              "    </tr>\n",
              "    <tr>\n",
              "      <th>2</th>\n",
              "      <td>27</td>\n",
              "      <td>0</td>\n",
              "      <td>9</td>\n",
              "      <td>185</td>\n",
              "      <td>85</td>\n",
              "      <td>114</td>\n",
              "      <td>72</td>\n",
              "      <td>86</td>\n",
              "      <td>234</td>\n",
              "      <td>183</td>\n",
              "      <td>...</td>\n",
              "      <td>1.0</td>\n",
              "      <td>1.1</td>\n",
              "      <td>25</td>\n",
              "      <td>32</td>\n",
              "      <td>26</td>\n",
              "      <td>1</td>\n",
              "      <td>1</td>\n",
              "      <td>1.85</td>\n",
              "      <td>3.4225</td>\n",
              "      <td>24.835646</td>\n",
              "    </tr>\n",
              "    <tr>\n",
              "      <th>3</th>\n",
              "      <td>44</td>\n",
              "      <td>0</td>\n",
              "      <td>9</td>\n",
              "      <td>165</td>\n",
              "      <td>80</td>\n",
              "      <td>112</td>\n",
              "      <td>73</td>\n",
              "      <td>250</td>\n",
              "      <td>119</td>\n",
              "      <td>265</td>\n",
              "      <td>...</td>\n",
              "      <td>1.0</td>\n",
              "      <td>0.7</td>\n",
              "      <td>18</td>\n",
              "      <td>20</td>\n",
              "      <td>35</td>\n",
              "      <td>1</td>\n",
              "      <td>1</td>\n",
              "      <td>1.65</td>\n",
              "      <td>2.7225</td>\n",
              "      <td>29.384757</td>\n",
              "    </tr>\n",
              "    <tr>\n",
              "      <th>4</th>\n",
              "      <td>41</td>\n",
              "      <td>1</td>\n",
              "      <td>17</td>\n",
              "      <td>150</td>\n",
              "      <td>50</td>\n",
              "      <td>136</td>\n",
              "      <td>65</td>\n",
              "      <td>104</td>\n",
              "      <td>177</td>\n",
              "      <td>61</td>\n",
              "      <td>...</td>\n",
              "      <td>1.0</td>\n",
              "      <td>0.7</td>\n",
              "      <td>42</td>\n",
              "      <td>48</td>\n",
              "      <td>39</td>\n",
              "      <td>0</td>\n",
              "      <td>0</td>\n",
              "      <td>1.50</td>\n",
              "      <td>2.2500</td>\n",
              "      <td>22.222222</td>\n",
              "    </tr>\n",
              "  </tbody>\n",
              "</table>\n",
              "<p>5 rows × 23 columns</p>\n",
              "</div>\n",
              "      <button class=\"colab-df-convert\" onclick=\"convertToInteractive('df-f5b48486-a5c0-4376-8e7e-88dc0ba7586c')\"\n",
              "              title=\"Convert this dataframe to an interactive table.\"\n",
              "              style=\"display:none;\">\n",
              "        \n",
              "  <svg xmlns=\"http://www.w3.org/2000/svg\" height=\"24px\"viewBox=\"0 0 24 24\"\n",
              "       width=\"24px\">\n",
              "    <path d=\"M0 0h24v24H0V0z\" fill=\"none\"/>\n",
              "    <path d=\"M18.56 5.44l.94 2.06.94-2.06 2.06-.94-2.06-.94-.94-2.06-.94 2.06-2.06.94zm-11 1L8.5 8.5l.94-2.06 2.06-.94-2.06-.94L8.5 2.5l-.94 2.06-2.06.94zm10 10l.94 2.06.94-2.06 2.06-.94-2.06-.94-.94-2.06-.94 2.06-2.06.94z\"/><path d=\"M17.41 7.96l-1.37-1.37c-.4-.4-.92-.59-1.43-.59-.52 0-1.04.2-1.43.59L10.3 9.45l-7.72 7.72c-.78.78-.78 2.05 0 2.83L4 21.41c.39.39.9.59 1.41.59.51 0 1.02-.2 1.41-.59l7.78-7.78 2.81-2.81c.8-.78.8-2.07 0-2.86zM5.41 20L4 18.59l7.72-7.72 1.47 1.35L5.41 20z\"/>\n",
              "  </svg>\n",
              "      </button>\n",
              "      \n",
              "  <style>\n",
              "    .colab-df-container {\n",
              "      display:flex;\n",
              "      flex-wrap:wrap;\n",
              "      gap: 12px;\n",
              "    }\n",
              "\n",
              "    .colab-df-convert {\n",
              "      background-color: #E8F0FE;\n",
              "      border: none;\n",
              "      border-radius: 50%;\n",
              "      cursor: pointer;\n",
              "      display: none;\n",
              "      fill: #1967D2;\n",
              "      height: 32px;\n",
              "      padding: 0 0 0 0;\n",
              "      width: 32px;\n",
              "    }\n",
              "\n",
              "    .colab-df-convert:hover {\n",
              "      background-color: #E2EBFA;\n",
              "      box-shadow: 0px 1px 2px rgba(60, 64, 67, 0.3), 0px 1px 3px 1px rgba(60, 64, 67, 0.15);\n",
              "      fill: #174EA6;\n",
              "    }\n",
              "\n",
              "    [theme=dark] .colab-df-convert {\n",
              "      background-color: #3B4455;\n",
              "      fill: #D2E3FC;\n",
              "    }\n",
              "\n",
              "    [theme=dark] .colab-df-convert:hover {\n",
              "      background-color: #434B5C;\n",
              "      box-shadow: 0px 1px 3px 1px rgba(0, 0, 0, 0.15);\n",
              "      filter: drop-shadow(0px 1px 2px rgba(0, 0, 0, 0.3));\n",
              "      fill: #FFFFFF;\n",
              "    }\n",
              "  </style>\n",
              "\n",
              "      <script>\n",
              "        const buttonEl =\n",
              "          document.querySelector('#df-f5b48486-a5c0-4376-8e7e-88dc0ba7586c button.colab-df-convert');\n",
              "        buttonEl.style.display =\n",
              "          google.colab.kernel.accessAllowed ? 'block' : 'none';\n",
              "\n",
              "        async function convertToInteractive(key) {\n",
              "          const element = document.querySelector('#df-f5b48486-a5c0-4376-8e7e-88dc0ba7586c');\n",
              "          const dataTable =\n",
              "            await google.colab.kernel.invokeFunction('convertToInteractive',\n",
              "                                                     [key], {});\n",
              "          if (!dataTable) return;\n",
              "\n",
              "          const docLinkHtml = 'Like what you see? Visit the ' +\n",
              "            '<a target=\"_blank\" href=https://colab.research.google.com/notebooks/data_table.ipynb>data table notebook</a>'\n",
              "            + ' to learn more about interactive tables.';\n",
              "          element.innerHTML = '';\n",
              "          dataTable['output_type'] = 'display_data';\n",
              "          await google.colab.output.renderOutput(dataTable, element);\n",
              "          const docLink = document.createElement('div');\n",
              "          docLink.innerHTML = docLinkHtml;\n",
              "          element.appendChild(docLink);\n",
              "        }\n",
              "      </script>\n",
              "    </div>\n",
              "  </div>\n",
              "  "
            ]
          },
          "metadata": {}
        }
      ]
    },
    {
      "cell_type": "code",
      "source": [
        "wisc.describe() "
      ],
      "metadata": {
        "colab": {
          "base_uri": "https://localhost:8080/",
          "height": 394
        },
        "id": "VSx4CEJpO05H",
        "outputId": "f911bde8-4169-492b-fbf1-36a036e00fe9"
      },
      "execution_count": 84,
      "outputs": [
        {
          "output_type": "execute_result",
          "data": {
            "text/plain": [
              "              SIDO          SEX    AGE_GROUP       HEIGHT       WEIGHT  \\\n",
              "count  4043.000000  4043.000000  4043.000000  4043.000000  4043.000000   \n",
              "mean     33.824388     0.498887    11.950037   160.822409    62.794954   \n",
              "std      12.550239     0.500061     2.283252     9.201689    12.197016   \n",
              "min      11.000000     0.000000     9.000000   130.000000    30.000000   \n",
              "25%      27.000000     0.000000    10.000000   155.000000    55.000000   \n",
              "50%      41.000000     0.000000    12.000000   160.000000    60.000000   \n",
              "75%      44.000000     1.000000    13.000000   170.000000    70.000000   \n",
              "max      49.000000     1.000000    18.000000   195.000000   120.000000   \n",
              "\n",
              "           BP_HIGH      BP_LWST         BLDS    TOT_CHOLE  TRIGLYCERIDE  ...  \\\n",
              "count  4043.000000  4043.000000  4043.000000  4043.000000   4043.000000  ...   \n",
              "mean    124.639377    76.490972   103.751422   198.266139    132.813752  ...   \n",
              "std      14.739803     9.840721    24.309470    41.950654     92.928160  ...   \n",
              "min      78.000000    50.000000    58.000000    70.000000     14.000000  ...   \n",
              "25%     114.000000    70.000000    91.000000   169.000000     77.000000  ...   \n",
              "50%     124.000000    77.000000    99.000000   197.000000    111.000000  ...   \n",
              "75%     134.000000    82.000000   109.000000   225.000000    160.000000  ...   \n",
              "max     199.000000   130.000000   473.000000   387.000000   1701.000000  ...   \n",
              "\n",
              "       OLIG_PROTE_CD   CREATININE     SGOT_AST     SGPT_ALT    GAMMA_GTP  \\\n",
              "count    4022.000000  4043.000000  4043.000000  4043.000000  4043.000000   \n",
              "mean        1.125559     0.856913    27.898837    26.924808    38.135296   \n",
              "std         0.503060     0.367349    18.261743    22.801052    57.009290   \n",
              "min         1.000000     0.050000     5.000000     2.000000     3.000000   \n",
              "25%         1.000000     0.700000    20.000000    16.000000    16.000000   \n",
              "50%         1.000000     0.800000    24.000000    21.000000    24.000000   \n",
              "75%         1.000000     1.000000    30.000000    31.000000    38.000000   \n",
              "max         6.000000     9.200000   484.000000   477.000000   976.000000   \n",
              "\n",
              "               SMK          DRK    height(m)     HEIGHT*2          BMI  \n",
              "count  4043.000000  4043.000000  4043.000000  4043.000000  4043.000000  \n",
              "mean      0.364333     0.572842     1.608224     2.594850    24.160125  \n",
              "std       0.481302     0.494727     0.092017     0.296417     3.491896  \n",
              "min       0.000000     0.000000     1.300000     1.690000    14.268728  \n",
              "25%       0.000000     0.000000     1.550000     2.402500    22.038567  \n",
              "50%       0.000000     1.000000     1.600000     2.560000    23.875115  \n",
              "75%       1.000000     1.000000     1.700000     2.890000    26.122449  \n",
              "max       1.000000     1.000000     1.950000     3.802500    39.792388  \n",
              "\n",
              "[8 rows x 23 columns]"
            ],
            "text/html": [
              "\n",
              "  <div id=\"df-ba45aa00-5bbe-4c21-8d96-a298a19af89d\">\n",
              "    <div class=\"colab-df-container\">\n",
              "      <div>\n",
              "<style scoped>\n",
              "    .dataframe tbody tr th:only-of-type {\n",
              "        vertical-align: middle;\n",
              "    }\n",
              "\n",
              "    .dataframe tbody tr th {\n",
              "        vertical-align: top;\n",
              "    }\n",
              "\n",
              "    .dataframe thead th {\n",
              "        text-align: right;\n",
              "    }\n",
              "</style>\n",
              "<table border=\"1\" class=\"dataframe\">\n",
              "  <thead>\n",
              "    <tr style=\"text-align: right;\">\n",
              "      <th></th>\n",
              "      <th>SIDO</th>\n",
              "      <th>SEX</th>\n",
              "      <th>AGE_GROUP</th>\n",
              "      <th>HEIGHT</th>\n",
              "      <th>WEIGHT</th>\n",
              "      <th>BP_HIGH</th>\n",
              "      <th>BP_LWST</th>\n",
              "      <th>BLDS</th>\n",
              "      <th>TOT_CHOLE</th>\n",
              "      <th>TRIGLYCERIDE</th>\n",
              "      <th>...</th>\n",
              "      <th>OLIG_PROTE_CD</th>\n",
              "      <th>CREATININE</th>\n",
              "      <th>SGOT_AST</th>\n",
              "      <th>SGPT_ALT</th>\n",
              "      <th>GAMMA_GTP</th>\n",
              "      <th>SMK</th>\n",
              "      <th>DRK</th>\n",
              "      <th>height(m)</th>\n",
              "      <th>HEIGHT*2</th>\n",
              "      <th>BMI</th>\n",
              "    </tr>\n",
              "  </thead>\n",
              "  <tbody>\n",
              "    <tr>\n",
              "      <th>count</th>\n",
              "      <td>4043.000000</td>\n",
              "      <td>4043.000000</td>\n",
              "      <td>4043.000000</td>\n",
              "      <td>4043.000000</td>\n",
              "      <td>4043.000000</td>\n",
              "      <td>4043.000000</td>\n",
              "      <td>4043.000000</td>\n",
              "      <td>4043.000000</td>\n",
              "      <td>4043.000000</td>\n",
              "      <td>4043.000000</td>\n",
              "      <td>...</td>\n",
              "      <td>4022.000000</td>\n",
              "      <td>4043.000000</td>\n",
              "      <td>4043.000000</td>\n",
              "      <td>4043.000000</td>\n",
              "      <td>4043.000000</td>\n",
              "      <td>4043.000000</td>\n",
              "      <td>4043.000000</td>\n",
              "      <td>4043.000000</td>\n",
              "      <td>4043.000000</td>\n",
              "      <td>4043.000000</td>\n",
              "    </tr>\n",
              "    <tr>\n",
              "      <th>mean</th>\n",
              "      <td>33.824388</td>\n",
              "      <td>0.498887</td>\n",
              "      <td>11.950037</td>\n",
              "      <td>160.822409</td>\n",
              "      <td>62.794954</td>\n",
              "      <td>124.639377</td>\n",
              "      <td>76.490972</td>\n",
              "      <td>103.751422</td>\n",
              "      <td>198.266139</td>\n",
              "      <td>132.813752</td>\n",
              "      <td>...</td>\n",
              "      <td>1.125559</td>\n",
              "      <td>0.856913</td>\n",
              "      <td>27.898837</td>\n",
              "      <td>26.924808</td>\n",
              "      <td>38.135296</td>\n",
              "      <td>0.364333</td>\n",
              "      <td>0.572842</td>\n",
              "      <td>1.608224</td>\n",
              "      <td>2.594850</td>\n",
              "      <td>24.160125</td>\n",
              "    </tr>\n",
              "    <tr>\n",
              "      <th>std</th>\n",
              "      <td>12.550239</td>\n",
              "      <td>0.500061</td>\n",
              "      <td>2.283252</td>\n",
              "      <td>9.201689</td>\n",
              "      <td>12.197016</td>\n",
              "      <td>14.739803</td>\n",
              "      <td>9.840721</td>\n",
              "      <td>24.309470</td>\n",
              "      <td>41.950654</td>\n",
              "      <td>92.928160</td>\n",
              "      <td>...</td>\n",
              "      <td>0.503060</td>\n",
              "      <td>0.367349</td>\n",
              "      <td>18.261743</td>\n",
              "      <td>22.801052</td>\n",
              "      <td>57.009290</td>\n",
              "      <td>0.481302</td>\n",
              "      <td>0.494727</td>\n",
              "      <td>0.092017</td>\n",
              "      <td>0.296417</td>\n",
              "      <td>3.491896</td>\n",
              "    </tr>\n",
              "    <tr>\n",
              "      <th>min</th>\n",
              "      <td>11.000000</td>\n",
              "      <td>0.000000</td>\n",
              "      <td>9.000000</td>\n",
              "      <td>130.000000</td>\n",
              "      <td>30.000000</td>\n",
              "      <td>78.000000</td>\n",
              "      <td>50.000000</td>\n",
              "      <td>58.000000</td>\n",
              "      <td>70.000000</td>\n",
              "      <td>14.000000</td>\n",
              "      <td>...</td>\n",
              "      <td>1.000000</td>\n",
              "      <td>0.050000</td>\n",
              "      <td>5.000000</td>\n",
              "      <td>2.000000</td>\n",
              "      <td>3.000000</td>\n",
              "      <td>0.000000</td>\n",
              "      <td>0.000000</td>\n",
              "      <td>1.300000</td>\n",
              "      <td>1.690000</td>\n",
              "      <td>14.268728</td>\n",
              "    </tr>\n",
              "    <tr>\n",
              "      <th>25%</th>\n",
              "      <td>27.000000</td>\n",
              "      <td>0.000000</td>\n",
              "      <td>10.000000</td>\n",
              "      <td>155.000000</td>\n",
              "      <td>55.000000</td>\n",
              "      <td>114.000000</td>\n",
              "      <td>70.000000</td>\n",
              "      <td>91.000000</td>\n",
              "      <td>169.000000</td>\n",
              "      <td>77.000000</td>\n",
              "      <td>...</td>\n",
              "      <td>1.000000</td>\n",
              "      <td>0.700000</td>\n",
              "      <td>20.000000</td>\n",
              "      <td>16.000000</td>\n",
              "      <td>16.000000</td>\n",
              "      <td>0.000000</td>\n",
              "      <td>0.000000</td>\n",
              "      <td>1.550000</td>\n",
              "      <td>2.402500</td>\n",
              "      <td>22.038567</td>\n",
              "    </tr>\n",
              "    <tr>\n",
              "      <th>50%</th>\n",
              "      <td>41.000000</td>\n",
              "      <td>0.000000</td>\n",
              "      <td>12.000000</td>\n",
              "      <td>160.000000</td>\n",
              "      <td>60.000000</td>\n",
              "      <td>124.000000</td>\n",
              "      <td>77.000000</td>\n",
              "      <td>99.000000</td>\n",
              "      <td>197.000000</td>\n",
              "      <td>111.000000</td>\n",
              "      <td>...</td>\n",
              "      <td>1.000000</td>\n",
              "      <td>0.800000</td>\n",
              "      <td>24.000000</td>\n",
              "      <td>21.000000</td>\n",
              "      <td>24.000000</td>\n",
              "      <td>0.000000</td>\n",
              "      <td>1.000000</td>\n",
              "      <td>1.600000</td>\n",
              "      <td>2.560000</td>\n",
              "      <td>23.875115</td>\n",
              "    </tr>\n",
              "    <tr>\n",
              "      <th>75%</th>\n",
              "      <td>44.000000</td>\n",
              "      <td>1.000000</td>\n",
              "      <td>13.000000</td>\n",
              "      <td>170.000000</td>\n",
              "      <td>70.000000</td>\n",
              "      <td>134.000000</td>\n",
              "      <td>82.000000</td>\n",
              "      <td>109.000000</td>\n",
              "      <td>225.000000</td>\n",
              "      <td>160.000000</td>\n",
              "      <td>...</td>\n",
              "      <td>1.000000</td>\n",
              "      <td>1.000000</td>\n",
              "      <td>30.000000</td>\n",
              "      <td>31.000000</td>\n",
              "      <td>38.000000</td>\n",
              "      <td>1.000000</td>\n",
              "      <td>1.000000</td>\n",
              "      <td>1.700000</td>\n",
              "      <td>2.890000</td>\n",
              "      <td>26.122449</td>\n",
              "    </tr>\n",
              "    <tr>\n",
              "      <th>max</th>\n",
              "      <td>49.000000</td>\n",
              "      <td>1.000000</td>\n",
              "      <td>18.000000</td>\n",
              "      <td>195.000000</td>\n",
              "      <td>120.000000</td>\n",
              "      <td>199.000000</td>\n",
              "      <td>130.000000</td>\n",
              "      <td>473.000000</td>\n",
              "      <td>387.000000</td>\n",
              "      <td>1701.000000</td>\n",
              "      <td>...</td>\n",
              "      <td>6.000000</td>\n",
              "      <td>9.200000</td>\n",
              "      <td>484.000000</td>\n",
              "      <td>477.000000</td>\n",
              "      <td>976.000000</td>\n",
              "      <td>1.000000</td>\n",
              "      <td>1.000000</td>\n",
              "      <td>1.950000</td>\n",
              "      <td>3.802500</td>\n",
              "      <td>39.792388</td>\n",
              "    </tr>\n",
              "  </tbody>\n",
              "</table>\n",
              "<p>8 rows × 23 columns</p>\n",
              "</div>\n",
              "      <button class=\"colab-df-convert\" onclick=\"convertToInteractive('df-ba45aa00-5bbe-4c21-8d96-a298a19af89d')\"\n",
              "              title=\"Convert this dataframe to an interactive table.\"\n",
              "              style=\"display:none;\">\n",
              "        \n",
              "  <svg xmlns=\"http://www.w3.org/2000/svg\" height=\"24px\"viewBox=\"0 0 24 24\"\n",
              "       width=\"24px\">\n",
              "    <path d=\"M0 0h24v24H0V0z\" fill=\"none\"/>\n",
              "    <path d=\"M18.56 5.44l.94 2.06.94-2.06 2.06-.94-2.06-.94-.94-2.06-.94 2.06-2.06.94zm-11 1L8.5 8.5l.94-2.06 2.06-.94-2.06-.94L8.5 2.5l-.94 2.06-2.06.94zm10 10l.94 2.06.94-2.06 2.06-.94-2.06-.94-.94-2.06-.94 2.06-2.06.94z\"/><path d=\"M17.41 7.96l-1.37-1.37c-.4-.4-.92-.59-1.43-.59-.52 0-1.04.2-1.43.59L10.3 9.45l-7.72 7.72c-.78.78-.78 2.05 0 2.83L4 21.41c.39.39.9.59 1.41.59.51 0 1.02-.2 1.41-.59l7.78-7.78 2.81-2.81c.8-.78.8-2.07 0-2.86zM5.41 20L4 18.59l7.72-7.72 1.47 1.35L5.41 20z\"/>\n",
              "  </svg>\n",
              "      </button>\n",
              "      \n",
              "  <style>\n",
              "    .colab-df-container {\n",
              "      display:flex;\n",
              "      flex-wrap:wrap;\n",
              "      gap: 12px;\n",
              "    }\n",
              "\n",
              "    .colab-df-convert {\n",
              "      background-color: #E8F0FE;\n",
              "      border: none;\n",
              "      border-radius: 50%;\n",
              "      cursor: pointer;\n",
              "      display: none;\n",
              "      fill: #1967D2;\n",
              "      height: 32px;\n",
              "      padding: 0 0 0 0;\n",
              "      width: 32px;\n",
              "    }\n",
              "\n",
              "    .colab-df-convert:hover {\n",
              "      background-color: #E2EBFA;\n",
              "      box-shadow: 0px 1px 2px rgba(60, 64, 67, 0.3), 0px 1px 3px 1px rgba(60, 64, 67, 0.15);\n",
              "      fill: #174EA6;\n",
              "    }\n",
              "\n",
              "    [theme=dark] .colab-df-convert {\n",
              "      background-color: #3B4455;\n",
              "      fill: #D2E3FC;\n",
              "    }\n",
              "\n",
              "    [theme=dark] .colab-df-convert:hover {\n",
              "      background-color: #434B5C;\n",
              "      box-shadow: 0px 1px 3px 1px rgba(0, 0, 0, 0.15);\n",
              "      filter: drop-shadow(0px 1px 2px rgba(0, 0, 0, 0.3));\n",
              "      fill: #FFFFFF;\n",
              "    }\n",
              "  </style>\n",
              "\n",
              "      <script>\n",
              "        const buttonEl =\n",
              "          document.querySelector('#df-ba45aa00-5bbe-4c21-8d96-a298a19af89d button.colab-df-convert');\n",
              "        buttonEl.style.display =\n",
              "          google.colab.kernel.accessAllowed ? 'block' : 'none';\n",
              "\n",
              "        async function convertToInteractive(key) {\n",
              "          const element = document.querySelector('#df-ba45aa00-5bbe-4c21-8d96-a298a19af89d');\n",
              "          const dataTable =\n",
              "            await google.colab.kernel.invokeFunction('convertToInteractive',\n",
              "                                                     [key], {});\n",
              "          if (!dataTable) return;\n",
              "\n",
              "          const docLinkHtml = 'Like what you see? Visit the ' +\n",
              "            '<a target=\"_blank\" href=https://colab.research.google.com/notebooks/data_table.ipynb>data table notebook</a>'\n",
              "            + ' to learn more about interactive tables.';\n",
              "          element.innerHTML = '';\n",
              "          dataTable['output_type'] = 'display_data';\n",
              "          await google.colab.output.renderOutput(dataTable, element);\n",
              "          const docLink = document.createElement('div');\n",
              "          docLink.innerHTML = docLinkHtml;\n",
              "          element.appendChild(docLink);\n",
              "        }\n",
              "      </script>\n",
              "    </div>\n",
              "  </div>\n",
              "  "
            ]
          },
          "metadata": {},
          "execution_count": 84
        }
      ]
    },
    {
      "cell_type": "code",
      "source": [
        "print(wisc['DRK'].value_counts())\n",
        "\n",
        "wisc['DRK'].value_counts().plot.bar()\n",
        "plt.ylabel('count')\n",
        "plt.title('Distribution of DRK_YES_OR_NOT')\n",
        "plt.show()\n",
        "#1=YES, 0=NO"
      ],
      "metadata": {
        "colab": {
          "base_uri": "https://localhost:8080/",
          "height": 332
        },
        "id": "YyW-J164O9cD",
        "outputId": "4bed4c4e-4f19-434b-f29c-9e52d4adf1a9"
      },
      "execution_count": 85,
      "outputs": [
        {
          "output_type": "stream",
          "name": "stdout",
          "text": [
            "1    2316\n",
            "0    1727\n",
            "Name: DRK, dtype: int64\n"
          ]
        },
        {
          "output_type": "display_data",
          "data": {
            "text/plain": [
              "<Figure size 432x288 with 1 Axes>"
            ],
            "image/png": "[encoded data removed]"
          },
          "metadata": {
            "needs_background": "light"
          }
        }
      ]
    },
    {
      "cell_type": "code",
      "source": [
        "xy= wisc[['BMI', 'DRK', 'TOT_CHOLE', 'GAMMA_GTP']]\n",
        "xy.head()"
      ],
      "metadata": {
        "colab": {
          "base_uri": "https://localhost:8080/",
          "height": 206
        },
        "id": "OQvulhH-0Z4L",
        "outputId": "6b5a67da-0523-4939-ae07-c6c5aa956d5b"
      },
      "execution_count": 86,
      "outputs": [
        {
          "output_type": "execute_result",
          "data": {
            "text/plain": [
              "         BMI  DRK  TOT_CHOLE  GAMMA_GTP\n",
              "0  22.038567    0        188         21\n",
              "1  20.811655    0        220         14\n",
              "2  24.835646    1        234         26\n",
              "3  29.384757    1        119         35\n",
              "4  22.222222    0        177         39"
            ],
            "text/html": [
              "\n",
              "  <div id=\"df-cfb7e0c5-2214-4f06-ab65-7091f6f35603\">\n",
              "    <div class=\"colab-df-container\">\n",
              "      <div>\n",
              "<style scoped>\n",
              "    .dataframe tbody tr th:only-of-type {\n",
              "        vertical-align: middle;\n",
              "    }\n",
              "\n",
              "    .dataframe tbody tr th {\n",
              "        vertical-align: top;\n",
              "    }\n",
              "\n",
              "    .dataframe thead th {\n",
              "        text-align: right;\n",
              "    }\n",
              "</style>\n",
              "<table border=\"1\" class=\"dataframe\">\n",
              "  <thead>\n",
              "    <tr style=\"text-align: right;\">\n",
              "      <th></th>\n",
              "      <th>BMI</th>\n",
              "      <th>DRK</th>\n",
              "      <th>TOT_CHOLE</th>\n",
              "      <th>GAMMA_GTP</th>\n",
              "    </tr>\n",
              "  </thead>\n",
              "  <tbody>\n",
              "    <tr>\n",
              "      <th>0</th>\n",
              "      <td>22.038567</td>\n",
              "      <td>0</td>\n",
              "      <td>188</td>\n",
              "      <td>21</td>\n",
              "    </tr>\n",
              "    <tr>\n",
              "      <th>1</th>\n",
              "      <td>20.811655</td>\n",
              "      <td>0</td>\n",
              "      <td>220</td>\n",
              "      <td>14</td>\n",
              "    </tr>\n",
              "    <tr>\n",
              "      <th>2</th>\n",
              "      <td>24.835646</td>\n",
              "      <td>1</td>\n",
              "      <td>234</td>\n",
              "      <td>26</td>\n",
              "    </tr>\n",
              "    <tr>\n",
              "      <th>3</th>\n",
              "      <td>29.384757</td>\n",
              "      <td>1</td>\n",
              "      <td>119</td>\n",
              "      <td>35</td>\n",
              "    </tr>\n",
              "    <tr>\n",
              "      <th>4</th>\n",
              "      <td>22.222222</td>\n",
              "      <td>0</td>\n",
              "      <td>177</td>\n",
              "      <td>39</td>\n",
              "    </tr>\n",
              "  </tbody>\n",
              "</table>\n",
              "</div>\n",
              "      <button class=\"colab-df-convert\" onclick=\"convertToInteractive('df-cfb7e0c5-2214-4f06-ab65-7091f6f35603')\"\n",
              "              title=\"Convert this dataframe to an interactive table.\"\n",
              "              style=\"display:none;\">\n",
              "        \n",
              "  <svg xmlns=\"http://www.w3.org/2000/svg\" height=\"24px\"viewBox=\"0 0 24 24\"\n",
              "       width=\"24px\">\n",
              "    <path d=\"M0 0h24v24H0V0z\" fill=\"none\"/>\n",
              "    <path d=\"M18.56 5.44l.94 2.06.94-2.06 2.06-.94-2.06-.94-.94-2.06-.94 2.06-2.06.94zm-11 1L8.5 8.5l.94-2.06 2.06-.94-2.06-.94L8.5 2.5l-.94 2.06-2.06.94zm10 10l.94 2.06.94-2.06 2.06-.94-2.06-.94-.94-2.06-.94 2.06-2.06.94z\"/><path d=\"M17.41 7.96l-1.37-1.37c-.4-.4-.92-.59-1.43-.59-.52 0-1.04.2-1.43.59L10.3 9.45l-7.72 7.72c-.78.78-.78 2.05 0 2.83L4 21.41c.39.39.9.59 1.41.59.51 0 1.02-.2 1.41-.59l7.78-7.78 2.81-2.81c.8-.78.8-2.07 0-2.86zM5.41 20L4 18.59l7.72-7.72 1.47 1.35L5.41 20z\"/>\n",
              "  </svg>\n",
              "      </button>\n",
              "      \n",
              "  <style>\n",
              "    .colab-df-container {\n",
              "      display:flex;\n",
              "      flex-wrap:wrap;\n",
              "      gap: 12px;\n",
              "    }\n",
              "\n",
              "    .colab-df-convert {\n",
              "      background-color: #E8F0FE;\n",
              "      border: none;\n",
              "      border-radius: 50%;\n",
              "      cursor: pointer;\n",
              "      display: none;\n",
              "      fill: #1967D2;\n",
              "      height: 32px;\n",
              "      padding: 0 0 0 0;\n",
              "      width: 32px;\n",
              "    }\n",
              "\n",
              "    .colab-df-convert:hover {\n",
              "      background-color: #E2EBFA;\n",
              "      box-shadow: 0px 1px 2px rgba(60, 64, 67, 0.3), 0px 1px 3px 1px rgba(60, 64, 67, 0.15);\n",
              "      fill: #174EA6;\n",
              "    }\n",
              "\n",
              "    [theme=dark] .colab-df-convert {\n",
              "      background-color: #3B4455;\n",
              "      fill: #D2E3FC;\n",
              "    }\n",
              "\n",
              "    [theme=dark] .colab-df-convert:hover {\n",
              "      background-color: #434B5C;\n",
              "      box-shadow: 0px 1px 3px 1px rgba(0, 0, 0, 0.15);\n",
              "      filter: drop-shadow(0px 1px 2px rgba(0, 0, 0, 0.3));\n",
              "      fill: #FFFFFF;\n",
              "    }\n",
              "  </style>\n",
              "\n",
              "      <script>\n",
              "        const buttonEl =\n",
              "          document.querySelector('#df-cfb7e0c5-2214-4f06-ab65-7091f6f35603 button.colab-df-convert');\n",
              "        buttonEl.style.display =\n",
              "          google.colab.kernel.accessAllowed ? 'block' : 'none';\n",
              "\n",
              "        async function convertToInteractive(key) {\n",
              "          const element = document.querySelector('#df-cfb7e0c5-2214-4f06-ab65-7091f6f35603');\n",
              "          const dataTable =\n",
              "            await google.colab.kernel.invokeFunction('convertToInteractive',\n",
              "                                                     [key], {});\n",
              "          if (!dataTable) return;\n",
              "\n",
              "          const docLinkHtml = 'Like what you see? Visit the ' +\n",
              "            '<a target=\"_blank\" href=https://colab.research.google.com/notebooks/data_table.ipynb>data table notebook</a>'\n",
              "            + ' to learn more about interactive tables.';\n",
              "          element.innerHTML = '';\n",
              "          dataTable['output_type'] = 'display_data';\n",
              "          await google.colab.output.renderOutput(dataTable, element);\n",
              "          const docLink = document.createElement('div');\n",
              "          docLink.innerHTML = docLinkHtml;\n",
              "          element.appendChild(docLink);\n",
              "        }\n",
              "      </script>\n",
              "    </div>\n",
              "  </div>\n",
              "  "
            ]
          },
          "metadata": {},
          "execution_count": 86
        }
      ]
    },
    {
      "cell_type": "code",
      "source": [
        "x = xy.iloc[:, 1:]\n",
        "display(x.head())\n",
        "\n",
        "y = xy.iloc[0]\n",
        "display(y.head())"
      ],
      "metadata": {
        "colab": {
          "base_uri": "https://localhost:8080/",
          "height": 296
        },
        "id": "yENTP3SU1abP",
        "outputId": "cafb335c-61b9-4964-b9e7-c8a39f43fe95"
      },
      "execution_count": 87,
      "outputs": [
        {
          "output_type": "display_data",
          "data": {
            "text/plain": [
              "   DRK  TOT_CHOLE  GAMMA_GTP\n",
              "0    0        188         21\n",
              "1    0        220         14\n",
              "2    1        234         26\n",
              "3    1        119         35\n",
              "4    0        177         39"
            ],
            "text/html": [
              "\n",
              "  <div id=\"df-bfecc524-09c8-45e0-8b40-748a028afa1b\">\n",
              "    <div class=\"colab-df-container\">\n",
              "      <div>\n",
              "<style scoped>\n",
              "    .dataframe tbody tr th:only-of-type {\n",
              "        vertical-align: middle;\n",
              "    }\n",
              "\n",
              "    .dataframe tbody tr th {\n",
              "        vertical-align: top;\n",
              "    }\n",
              "\n",
              "    .dataframe thead th {\n",
              "        text-align: right;\n",
              "    }\n",
              "</style>\n",
              "<table border=\"1\" class=\"dataframe\">\n",
              "  <thead>\n",
              "    <tr style=\"text-align: right;\">\n",
              "      <th></th>\n",
              "      <th>DRK</th>\n",
              "      <th>TOT_CHOLE</th>\n",
              "      <th>GAMMA_GTP</th>\n",
              "    </tr>\n",
              "  </thead>\n",
              "  <tbody>\n",
              "    <tr>\n",
              "      <th>0</th>\n",
              "      <td>0</td>\n",
              "      <td>188</td>\n",
              "      <td>21</td>\n",
              "    </tr>\n",
              "    <tr>\n",
              "      <th>1</th>\n",
              "      <td>0</td>\n",
              "      <td>220</td>\n",
              "      <td>14</td>\n",
              "    </tr>\n",
              "    <tr>\n",
              "      <th>2</th>\n",
              "      <td>1</td>\n",
              "      <td>234</td>\n",
              "      <td>26</td>\n",
              "    </tr>\n",
              "    <tr>\n",
              "      <th>3</th>\n",
              "      <td>1</td>\n",
              "      <td>119</td>\n",
              "      <td>35</td>\n",
              "    </tr>\n",
              "    <tr>\n",
              "      <th>4</th>\n",
              "      <td>0</td>\n",
              "      <td>177</td>\n",
              "      <td>39</td>\n",
              "    </tr>\n",
              "  </tbody>\n",
              "</table>\n",
              "</div>\n",
              "      <button class=\"colab-df-convert\" onclick=\"convertToInteractive('df-bfecc524-09c8-45e0-8b40-748a028afa1b')\"\n",
              "              title=\"Convert this dataframe to an interactive table.\"\n",
              "              style=\"display:none;\">\n",
              "        \n",
              "  <svg xmlns=\"http://www.w3.org/2000/svg\" height=\"24px\"viewBox=\"0 0 24 24\"\n",
              "       width=\"24px\">\n",
              "    <path d=\"M0 0h24v24H0V0z\" fill=\"none\"/>\n",
              "    <path d=\"M18.56 5.44l.94 2.06.94-2.06 2.06-.94-2.06-.94-.94-2.06-.94 2.06-2.06.94zm-11 1L8.5 8.5l.94-2.06 2.06-.94-2.06-.94L8.5 2.5l-.94 2.06-2.06.94zm10 10l.94 2.06.94-2.06 2.06-.94-2.06-.94-.94-2.06-.94 2.06-2.06.94z\"/><path d=\"M17.41 7.96l-1.37-1.37c-.4-.4-.92-.59-1.43-.59-.52 0-1.04.2-1.43.59L10.3 9.45l-7.72 7.72c-.78.78-.78 2.05 0 2.83L4 21.41c.39.39.9.59 1.41.59.51 0 1.02-.2 1.41-.59l7.78-7.78 2.81-2.81c.8-.78.8-2.07 0-2.86zM5.41 20L4 18.59l7.72-7.72 1.47 1.35L5.41 20z\"/>\n",
              "  </svg>\n",
              "      </button>\n",
              "      \n",
              "  <style>\n",
              "    .colab-df-container {\n",
              "      display:flex;\n",
              "      flex-wrap:wrap;\n",
              "      gap: 12px;\n",
              "    }\n",
              "\n",
              "    .colab-df-convert {\n",
              "      background-color: #E8F0FE;\n",
              "      border: none;\n",
              "      border-radius: 50%;\n",
              "      cursor: pointer;\n",
              "      display: none;\n",
              "      fill: #1967D2;\n",
              "      height: 32px;\n",
              "      padding: 0 0 0 0;\n",
              "      width: 32px;\n",
              "    }\n",
              "\n",
              "    .colab-df-convert:hover {\n",
              "      background-color: #E2EBFA;\n",
              "      box-shadow: 0px 1px 2px rgba(60, 64, 67, 0.3), 0px 1px 3px 1px rgba(60, 64, 67, 0.15);\n",
              "      fill: #174EA6;\n",
              "    }\n",
              "\n",
              "    [theme=dark] .colab-df-convert {\n",
              "      background-color: #3B4455;\n",
              "      fill: #D2E3FC;\n",
              "    }\n",
              "\n",
              "    [theme=dark] .colab-df-convert:hover {\n",
              "      background-color: #434B5C;\n",
              "      box-shadow: 0px 1px 3px 1px rgba(0, 0, 0, 0.15);\n",
              "      filter: drop-shadow(0px 1px 2px rgba(0, 0, 0, 0.3));\n",
              "      fill: #FFFFFF;\n",
              "    }\n",
              "  </style>\n",
              "\n",
              "      <script>\n",
              "        const buttonEl =\n",
              "          document.querySelector('#df-bfecc524-09c8-45e0-8b40-748a028afa1b button.colab-df-convert');\n",
              "        buttonEl.style.display =\n",
              "          google.colab.kernel.accessAllowed ? 'block' : 'none';\n",
              "\n",
              "        async function convertToInteractive(key) {\n",
              "          const element = document.querySelector('#df-bfecc524-09c8-45e0-8b40-748a028afa1b');\n",
              "          const dataTable =\n",
              "            await google.colab.kernel.invokeFunction('convertToInteractive',\n",
              "                                                     [key], {});\n",
              "          if (!dataTable) return;\n",
              "\n",
              "          const docLinkHtml = 'Like what you see? Visit the ' +\n",
              "            '<a target=\"_blank\" href=https://colab.research.google.com/notebooks/data_table.ipynb>data table notebook</a>'\n",
              "            + ' to learn more about interactive tables.';\n",
              "          element.innerHTML = '';\n",
              "          dataTable['output_type'] = 'display_data';\n",
              "          await google.colab.output.renderOutput(dataTable, element);\n",
              "          const docLink = document.createElement('div');\n",
              "          docLink.innerHTML = docLinkHtml;\n",
              "          element.appendChild(docLink);\n",
              "        }\n",
              "      </script>\n",
              "    </div>\n",
              "  </div>\n",
              "  "
            ]
          },
          "metadata": {}
        },
        {
          "output_type": "display_data",
          "data": {
            "text/plain": [
              "BMI           22.038567\n",
              "DRK            0.000000\n",
              "TOT_CHOLE    188.000000\n",
              "GAMMA_GTP     21.000000\n",
              "Name: 0, dtype: float64"
            ]
          },
          "metadata": {}
        }
      ]
    },
    {
      "cell_type": "markdown",
      "source": [
        "##의사결정나무"
      ],
      "metadata": {
        "id": "Cmhhzq33N_TZ"
      }
    },
    {
      "cell_type": "code",
      "source": [
        "from sklearn.tree import DecisionTreeClassifier\n",
        "from sklearn.model_selection import train_test_split\n",
        "\n",
        "X = wisc.iloc[:, 3:10]  # 30개 변수 \n",
        "y = wisc['DRK']   # target 변수 음부여부 \n",
        "\n",
        "# 데이터셋을 학습(train)과 테스트(test) 세트로 분할\n",
        "# random_state : random 으로 분할시 사용되는 난수 seed 숫자\n",
        "#X_train, X_test, y_train, y_test = train_test_split(X, y, test_size = 0.25, stratify=y, random_state=42)\n",
        "\n",
        "X_train, X_test, y_train, y_test = train_test_split(X, y, test_size = 0.25, random_state=42)\n",
        "\n",
        "tree = DecisionTreeClassifier(random_state=0)  \n",
        "tree.fit(X_train, y_train)\n",
        "print(\"학습용 데이터 정확도: {:.3f}\".format(tree.score(X_train, y_train)))\n",
        "print(\"시험용 데이터 정확도: {:.3f}\".format(tree.score(X_test, y_test)))"
      ],
      "metadata": {
        "colab": {
          "base_uri": "https://localhost:8080/"
        },
        "id": "oQdBsWU-RBsa",
        "outputId": "8cf9dff3-91e0-47e4-f5a7-cbfd4389646e"
      },
      "execution_count": 88,
      "outputs": [
        {
          "output_type": "stream",
          "name": "stdout",
          "text": [
            "학습용 데이터 정확도: 1.000\n",
            "시험용 데이터 정확도: 0.565\n"
          ]
        }
      ]
    },
    {
      "cell_type": "code",
      "source": [
        "tree = DecisionTreeClassifier(max_depth=4, random_state=0)\n",
        "tree.fit(X_train, y_train)\n",
        "\n",
        "print(\"학습용 데이터 정확도: {:.3f}\".format(tree.score(X_train, y_train)))\n",
        "print(\"시험용 데이터 정확도: {:.3f}\".format(tree.score(X_test, y_test)))"
      ],
      "metadata": {
        "colab": {
          "base_uri": "https://localhost:8080/"
        },
        "id": "EFwVTdPLUmoj",
        "outputId": "c28f2ce5-3074-4a5d-c64a-8c8883481ef0"
      },
      "execution_count": 89,
      "outputs": [
        {
          "output_type": "stream",
          "name": "stdout",
          "text": [
            "학습용 데이터 정확도: 0.686\n",
            "시험용 데이터 정확도: 0.648\n"
          ]
        }
      ]
    },
    {
      "cell_type": "code",
      "source": [
        "from sklearn.tree import export_graphviz\n",
        "import graphviz\n",
        "\n",
        "# filled = True: 색상의 진하기로 클래스를 나타냄, impurity: 불순도 계산값 보여주기 옵션\n",
        "export_graphviz(tree, out_file=\"tree.dot\", class_names=[\"No\", \"Yes\"],\n",
        "                feature_names=X.columns, impurity=False, filled=True)\n",
        "\n",
        "with open(\"tree.dot\") as f:\n",
        "    dot_graph = f.read()\n",
        "\n",
        "display(graphviz.Source(dot_graph))"
      ],
      "metadata": {
        "colab": {
          "base_uri": "https://localhost:8080/",
          "height": 678
        },
        "id": "pxvkvVQTb1ia",
        "outputId": "77c25bbe-b0a1-430c-98fe-544b429241cc"
      },
      "execution_count": 90,
      "outputs": [
        {
          "output_type": "display_data",
          "data": {
            "text/plain": [
              "<graphviz.files.Source at 0x7f37d78eeed0>"
            ],
            "image/svg+xml": "<?xml version=\"1.0\" encoding=\"UTF-8\" standalone=\"no\"?>\n<!DOCTYPE svg PUBLIC \"-//W3C//DTD SVG 1.1//EN\"\n \"http://www.w3.org/Graphics/SVG/1.1/DTD/svg11.dtd\">\n<!-- Generated by graphviz version 2.40.1 (20161225.0304)\n -->\n<!-- Title: Tree Pages: 1 -->\n<svg width=\"2164pt\" height=\"477pt\"\n viewBox=\"0.00 0.00 2164.00 477.00\" xmlns=\"http://www.w3.org/2000/svg\" xmlns:xlink=\"http://www.w3.org/1999/xlink\">\n<g id=\"graph0\" class=\"graph\" transform=\"scale(1 1) rotate(0) translate(4 473)\">\n<title>Tree</title>\n<polygon fill=\"#ffffff\" stroke=\"transparent\" points=\"-4,4 -4,-473 2160,-473 2160,4 -4,4\"/>\n<!-- 0 -->\n<g id=\"node1\" class=\"node\">\n<title>0</title>\n<polygon fill=\"#d1e8f9\" stroke=\"#000000\" points=\"1119.5,-469 970.5,-469 970.5,-401 1119.5,-401 1119.5,-469\"/>\n<text text-anchor=\"middle\" x=\"1045\" y=\"-453.8\" font-family=\"Helvetica,sans-Serif\" font-size=\"14.00\" fill=\"#000000\">HEIGHT &lt;= 157.5</text>\n<text text-anchor=\"middle\" x=\"1045\" y=\"-438.8\" font-family=\"Helvetica,sans-Serif\" font-size=\"14.00\" fill=\"#000000\">samples = 3032</text>\n<text text-anchor=\"middle\" x=\"1045\" y=\"-423.8\" font-family=\"Helvetica,sans-Serif\" font-size=\"14.00\" fill=\"#000000\">value = [1318, 1714]</text>\n<text text-anchor=\"middle\" x=\"1045\" y=\"-408.8\" font-family=\"Helvetica,sans-Serif\" font-size=\"14.00\" fill=\"#000000\">class = Yes</text>\n</g>\n<!-- 1 -->\n<g id=\"node2\" class=\"node\">\n<title>1</title>\n<polygon fill=\"#f4c8a9\" stroke=\"#000000\" points=\"840,-365 708,-365 708,-297 840,-297 840,-365\"/>\n<text text-anchor=\"middle\" x=\"774\" y=\"-349.8\" font-family=\"Helvetica,sans-Serif\" font-size=\"14.00\" fill=\"#000000\">HEIGHT &lt;= 152.5</text>\n<text text-anchor=\"middle\" x=\"774\" y=\"-334.8\" font-family=\"Helvetica,sans-Serif\" font-size=\"14.00\" fill=\"#000000\">samples = 1170</text>\n<text text-anchor=\"middle\" x=\"774\" y=\"-319.8\" font-family=\"Helvetica,sans-Serif\" font-size=\"14.00\" fill=\"#000000\">value = [747, 423]</text>\n<text text-anchor=\"middle\" x=\"774\" y=\"-304.8\" font-family=\"Helvetica,sans-Serif\" font-size=\"14.00\" fill=\"#000000\">class = No</text>\n</g>\n<!-- 0&#45;&gt;1 -->\n<g id=\"edge1\" class=\"edge\">\n<title>0&#45;&gt;1</title>\n<path fill=\"none\" stroke=\"#000000\" d=\"M970.2307,-406.3062C932.6791,-391.8953 887.2815,-374.4733 849.6134,-360.0177\"/>\n<polygon fill=\"#000000\" stroke=\"#000000\" points=\"850.8029,-356.7254 840.2128,-356.4101 848.2949,-363.2606 850.8029,-356.7254\"/>\n<text text-anchor=\"middle\" x=\"850.3832\" y=\"-375.5478\" font-family=\"Helvetica,sans-Serif\" font-size=\"14.00\" fill=\"#000000\">True</text>\n</g>\n<!-- 16 -->\n<g id=\"node17\" class=\"node\">\n<title>16</title>\n<polygon fill=\"#91c8f0\" stroke=\"#000000\" points=\"1392,-365 1252,-365 1252,-297 1392,-297 1392,-365\"/>\n<text text-anchor=\"middle\" x=\"1322\" y=\"-349.8\" font-family=\"Helvetica,sans-Serif\" font-size=\"14.00\" fill=\"#000000\">HEIGHT &lt;= 162.5</text>\n<text text-anchor=\"middle\" x=\"1322\" y=\"-334.8\" font-family=\"Helvetica,sans-Serif\" font-size=\"14.00\" fill=\"#000000\">samples = 1862</text>\n<text text-anchor=\"middle\" x=\"1322\" y=\"-319.8\" font-family=\"Helvetica,sans-Serif\" font-size=\"14.00\" fill=\"#000000\">value = [571, 1291]</text>\n<text text-anchor=\"middle\" x=\"1322\" y=\"-304.8\" font-family=\"Helvetica,sans-Serif\" font-size=\"14.00\" fill=\"#000000\">class = Yes</text>\n</g>\n<!-- 0&#45;&gt;16 -->\n<g id=\"edge16\" class=\"edge\">\n<title>0&#45;&gt;16</title>\n<path fill=\"none\" stroke=\"#000000\" d=\"M1119.5953,-406.9931C1157.4121,-392.7947 1203.3701,-375.5397 1241.9295,-361.0626\"/>\n<polygon fill=\"#000000\" stroke=\"#000000\" points=\"1243.4322,-364.237 1251.5639,-357.4453 1240.9717,-357.6837 1243.4322,-364.237\"/>\n<text text-anchor=\"middle\" x=\"1241.2278\" y=\"-376.5086\" font-family=\"Helvetica,sans-Serif\" font-size=\"14.00\" fill=\"#000000\">False</text>\n</g>\n<!-- 2 -->\n<g id=\"node3\" class=\"node\">\n<title>2</title>\n<polygon fill=\"#f0b58b\" stroke=\"#000000\" points=\"487.5,-261 346.5,-261 346.5,-193 487.5,-193 487.5,-261\"/>\n<text text-anchor=\"middle\" x=\"417\" y=\"-245.8\" font-family=\"Helvetica,sans-Serif\" font-size=\"14.00\" fill=\"#000000\">BP_HIGH &lt;= 131.5</text>\n<text text-anchor=\"middle\" x=\"417\" y=\"-230.8\" font-family=\"Helvetica,sans-Serif\" font-size=\"14.00\" fill=\"#000000\">samples = 603</text>\n<text text-anchor=\"middle\" x=\"417\" y=\"-215.8\" font-family=\"Helvetica,sans-Serif\" font-size=\"14.00\" fill=\"#000000\">value = [426, 177]</text>\n<text text-anchor=\"middle\" x=\"417\" y=\"-200.8\" font-family=\"Helvetica,sans-Serif\" font-size=\"14.00\" fill=\"#000000\">class = No</text>\n</g>\n<!-- 1&#45;&gt;2 -->\n<g id=\"edge2\" class=\"edge\">\n<title>1&#45;&gt;2</title>\n<path fill=\"none\" stroke=\"#000000\" d=\"M707.6877,-311.6821C648.2567,-294.3689 560.9227,-268.9271 497.5042,-250.4522\"/>\n<polygon fill=\"#000000\" stroke=\"#000000\" points=\"498.1191,-246.9859 487.5392,-247.5492 496.1612,-253.7065 498.1191,-246.9859\"/>\n</g>\n<!-- 9 -->\n<g id=\"node10\" class=\"node\">\n<title>9</title>\n<polygon fill=\"#f9e2d1\" stroke=\"#000000\" points=\"840.5,-261 707.5,-261 707.5,-193 840.5,-193 840.5,-261\"/>\n<text text-anchor=\"middle\" x=\"774\" y=\"-245.8\" font-family=\"Helvetica,sans-Serif\" font-size=\"14.00\" fill=\"#000000\">BP_HIGH &lt;= 97.5</text>\n<text text-anchor=\"middle\" x=\"774\" y=\"-230.8\" font-family=\"Helvetica,sans-Serif\" font-size=\"14.00\" fill=\"#000000\">samples = 567</text>\n<text text-anchor=\"middle\" x=\"774\" y=\"-215.8\" font-family=\"Helvetica,sans-Serif\" font-size=\"14.00\" fill=\"#000000\">value = [321, 246]</text>\n<text text-anchor=\"middle\" x=\"774\" y=\"-200.8\" font-family=\"Helvetica,sans-Serif\" font-size=\"14.00\" fill=\"#000000\">class = No</text>\n</g>\n<!-- 1&#45;&gt;9 -->\n<g id=\"edge9\" class=\"edge\">\n<title>1&#45;&gt;9</title>\n<path fill=\"none\" stroke=\"#000000\" d=\"M774,-296.9465C774,-288.776 774,-279.9318 774,-271.3697\"/>\n<polygon fill=\"#000000\" stroke=\"#000000\" points=\"777.5001,-271.13 774,-261.13 770.5001,-271.13 777.5001,-271.13\"/>\n</g>\n<!-- 3 -->\n<g id=\"node4\" class=\"node\">\n<title>3</title>\n<polygon fill=\"#f3c3a0\" stroke=\"#000000\" points=\"292,-157 108,-157 108,-89 292,-89 292,-157\"/>\n<text text-anchor=\"middle\" x=\"200\" y=\"-141.8\" font-family=\"Helvetica,sans-Serif\" font-size=\"14.00\" fill=\"#000000\">TRIGLYCERIDE &lt;= 282.0</text>\n<text text-anchor=\"middle\" x=\"200\" y=\"-126.8\" font-family=\"Helvetica,sans-Serif\" font-size=\"14.00\" fill=\"#000000\">samples = 403</text>\n<text text-anchor=\"middle\" x=\"200\" y=\"-111.8\" font-family=\"Helvetica,sans-Serif\" font-size=\"14.00\" fill=\"#000000\">value = [265, 138]</text>\n<text text-anchor=\"middle\" x=\"200\" y=\"-96.8\" font-family=\"Helvetica,sans-Serif\" font-size=\"14.00\" fill=\"#000000\">class = No</text>\n</g>\n<!-- 2&#45;&gt;3 -->\n<g id=\"edge3\" class=\"edge\">\n<title>2&#45;&gt;3</title>\n<path fill=\"none\" stroke=\"#000000\" d=\"M346.2463,-193.0904C325.1432,-182.9765 301.8638,-171.8195 280.2021,-161.4379\"/>\n<polygon fill=\"#000000\" stroke=\"#000000\" points=\"281.5592,-158.2071 271.0287,-157.0414 278.5338,-164.5196 281.5592,-158.2071\"/>\n</g>\n<!-- 6 -->\n<g id=\"node7\" class=\"node\">\n<title>6</title>\n<polygon fill=\"#eba069\" stroke=\"#000000\" points=\"485.5,-157 348.5,-157 348.5,-89 485.5,-89 485.5,-157\"/>\n<text text-anchor=\"middle\" x=\"417\" y=\"-141.8\" font-family=\"Helvetica,sans-Serif\" font-size=\"14.00\" fill=\"#000000\">BP_LWST &lt;= 77.5</text>\n<text text-anchor=\"middle\" x=\"417\" y=\"-126.8\" font-family=\"Helvetica,sans-Serif\" font-size=\"14.00\" fill=\"#000000\">samples = 200</text>\n<text text-anchor=\"middle\" x=\"417\" y=\"-111.8\" font-family=\"Helvetica,sans-Serif\" font-size=\"14.00\" fill=\"#000000\">value = [161, 39]</text>\n<text text-anchor=\"middle\" x=\"417\" y=\"-96.8\" font-family=\"Helvetica,sans-Serif\" font-size=\"14.00\" fill=\"#000000\">class = No</text>\n</g>\n<!-- 2&#45;&gt;6 -->\n<g id=\"edge6\" class=\"edge\">\n<title>2&#45;&gt;6</title>\n<path fill=\"none\" stroke=\"#000000\" d=\"M417,-192.9465C417,-184.776 417,-175.9318 417,-167.3697\"/>\n<polygon fill=\"#000000\" stroke=\"#000000\" points=\"420.5001,-167.13 417,-157.13 413.5001,-167.13 420.5001,-167.13\"/>\n</g>\n<!-- 4 -->\n<g id=\"node5\" class=\"node\">\n<title>4</title>\n<polygon fill=\"#f2c09c\" stroke=\"#000000\" points=\"132,-53 0,-53 0,0 132,0 132,-53\"/>\n<text text-anchor=\"middle\" x=\"66\" y=\"-37.8\" font-family=\"Helvetica,sans-Serif\" font-size=\"14.00\" fill=\"#000000\">samples = 396</text>\n<text text-anchor=\"middle\" x=\"66\" y=\"-22.8\" font-family=\"Helvetica,sans-Serif\" font-size=\"14.00\" fill=\"#000000\">value = [264, 132]</text>\n<text text-anchor=\"middle\" x=\"66\" y=\"-7.8\" font-family=\"Helvetica,sans-Serif\" font-size=\"14.00\" fill=\"#000000\">class = No</text>\n</g>\n<!-- 3&#45;&gt;4 -->\n<g id=\"edge4\" class=\"edge\">\n<title>3&#45;&gt;4</title>\n<path fill=\"none\" stroke=\"#000000\" d=\"M152.7566,-88.9777C139.2783,-79.2713 124.6285,-68.7213 111.2709,-59.1018\"/>\n<polygon fill=\"#000000\" stroke=\"#000000\" points=\"113.3031,-56.2522 103.143,-53.2485 109.2124,-61.9325 113.3031,-56.2522\"/>\n</g>\n<!-- 5 -->\n<g id=\"node6\" class=\"node\">\n<title>5</title>\n<polygon fill=\"#5aade9\" stroke=\"#000000\" points=\"249.5,-53 150.5,-53 150.5,0 249.5,0 249.5,-53\"/>\n<text text-anchor=\"middle\" x=\"200\" y=\"-37.8\" font-family=\"Helvetica,sans-Serif\" font-size=\"14.00\" fill=\"#000000\">samples = 7</text>\n<text text-anchor=\"middle\" x=\"200\" y=\"-22.8\" font-family=\"Helvetica,sans-Serif\" font-size=\"14.00\" fill=\"#000000\">value = [1, 6]</text>\n<text text-anchor=\"middle\" x=\"200\" y=\"-7.8\" font-family=\"Helvetica,sans-Serif\" font-size=\"14.00\" fill=\"#000000\">class = Yes</text>\n</g>\n<!-- 3&#45;&gt;5 -->\n<g id=\"edge5\" class=\"edge\">\n<title>3&#45;&gt;5</title>\n<path fill=\"none\" stroke=\"#000000\" d=\"M200,-88.9777C200,-80.7364 200,-71.887 200,-63.5153\"/>\n<polygon fill=\"#000000\" stroke=\"#000000\" points=\"203.5001,-63.2484 200,-53.2485 196.5001,-63.2485 203.5001,-63.2484\"/>\n</g>\n<!-- 7 -->\n<g id=\"node8\" class=\"node\">\n<title>7</title>\n<polygon fill=\"#e78c4b\" stroke=\"#000000\" points=\"374.5,-53 267.5,-53 267.5,0 374.5,0 374.5,-53\"/>\n<text text-anchor=\"middle\" x=\"321\" y=\"-37.8\" font-family=\"Helvetica,sans-Serif\" font-size=\"14.00\" fill=\"#000000\">samples = 60</text>\n<text text-anchor=\"middle\" x=\"321\" y=\"-22.8\" font-family=\"Helvetica,sans-Serif\" font-size=\"14.00\" fill=\"#000000\">value = [55, 5]</text>\n<text text-anchor=\"middle\" x=\"321\" y=\"-7.8\" font-family=\"Helvetica,sans-Serif\" font-size=\"14.00\" fill=\"#000000\">class = No</text>\n</g>\n<!-- 6&#45;&gt;7 -->\n<g id=\"edge7\" class=\"edge\">\n<title>6&#45;&gt;7</title>\n<path fill=\"none\" stroke=\"#000000\" d=\"M383.154,-88.9777C373.9534,-79.7292 363.9908,-69.7147 354.7931,-60.4691\"/>\n<polygon fill=\"#000000\" stroke=\"#000000\" points=\"357.1439,-57.8695 347.6099,-53.2485 352.1813,-62.8064 357.1439,-57.8695\"/>\n</g>\n<!-- 8 -->\n<g id=\"node9\" class=\"node\">\n<title>8</title>\n<polygon fill=\"#eda979\" stroke=\"#000000\" points=\"517,-53 393,-53 393,0 517,0 517,-53\"/>\n<text text-anchor=\"middle\" x=\"455\" y=\"-37.8\" font-family=\"Helvetica,sans-Serif\" font-size=\"14.00\" fill=\"#000000\">samples = 140</text>\n<text text-anchor=\"middle\" x=\"455\" y=\"-22.8\" font-family=\"Helvetica,sans-Serif\" font-size=\"14.00\" fill=\"#000000\">value = [106, 34]</text>\n<text text-anchor=\"middle\" x=\"455\" y=\"-7.8\" font-family=\"Helvetica,sans-Serif\" font-size=\"14.00\" fill=\"#000000\">class = No</text>\n</g>\n<!-- 6&#45;&gt;8 -->\n<g id=\"edge8\" class=\"edge\">\n<title>6&#45;&gt;8</title>\n<path fill=\"none\" stroke=\"#000000\" d=\"M430.3974,-88.9777C433.7508,-80.4617 437.36,-71.2963 440.753,-62.6798\"/>\n<polygon fill=\"#000000\" stroke=\"#000000\" points=\"444.0595,-63.8355 444.4669,-53.2485 437.5463,-61.2707 444.0595,-63.8355\"/>\n</g>\n<!-- 10 -->\n<g id=\"node11\" class=\"node\">\n<title>10</title>\n<polygon fill=\"#6eb7ec\" stroke=\"#000000\" points=\"765.5,-157 600.5,-157 600.5,-89 765.5,-89 765.5,-157\"/>\n<text text-anchor=\"middle\" x=\"683\" y=\"-141.8\" font-family=\"Helvetica,sans-Serif\" font-size=\"14.00\" fill=\"#000000\">TOT_CHOLE &lt;= 257.5</text>\n<text text-anchor=\"middle\" x=\"683\" y=\"-126.8\" font-family=\"Helvetica,sans-Serif\" font-size=\"14.00\" fill=\"#000000\">samples = 19</text>\n<text text-anchor=\"middle\" x=\"683\" y=\"-111.8\" font-family=\"Helvetica,sans-Serif\" font-size=\"14.00\" fill=\"#000000\">value = [4, 15]</text>\n<text text-anchor=\"middle\" x=\"683\" y=\"-96.8\" font-family=\"Helvetica,sans-Serif\" font-size=\"14.00\" fill=\"#000000\">class = Yes</text>\n</g>\n<!-- 9&#45;&gt;10 -->\n<g id=\"edge10\" class=\"edge\">\n<title>9&#45;&gt;10</title>\n<path fill=\"none\" stroke=\"#000000\" d=\"M744.2032,-192.9465C736.347,-183.968 727.7788,-174.1758 719.6087,-164.8385\"/>\n<polygon fill=\"#000000\" stroke=\"#000000\" points=\"722.0829,-162.351 712.8637,-157.13 716.8148,-166.9606 722.0829,-162.351\"/>\n</g>\n<!-- 13 -->\n<g id=\"node14\" class=\"node\">\n<title>13</title>\n<polygon fill=\"#f8ddc9\" stroke=\"#000000\" points=\"948.5,-157 783.5,-157 783.5,-89 948.5,-89 948.5,-157\"/>\n<text text-anchor=\"middle\" x=\"866\" y=\"-141.8\" font-family=\"Helvetica,sans-Serif\" font-size=\"14.00\" fill=\"#000000\">TOT_CHOLE &lt;= 175.5</text>\n<text text-anchor=\"middle\" x=\"866\" y=\"-126.8\" font-family=\"Helvetica,sans-Serif\" font-size=\"14.00\" fill=\"#000000\">samples = 548</text>\n<text text-anchor=\"middle\" x=\"866\" y=\"-111.8\" font-family=\"Helvetica,sans-Serif\" font-size=\"14.00\" fill=\"#000000\">value = [317, 231]</text>\n<text text-anchor=\"middle\" x=\"866\" y=\"-96.8\" font-family=\"Helvetica,sans-Serif\" font-size=\"14.00\" fill=\"#000000\">class = No</text>\n</g>\n<!-- 9&#45;&gt;13 -->\n<g id=\"edge13\" class=\"edge\">\n<title>9&#45;&gt;13</title>\n<path fill=\"none\" stroke=\"#000000\" d=\"M804.1242,-192.9465C812.0668,-183.968 820.7291,-174.1758 828.989,-164.8385\"/>\n<polygon fill=\"#000000\" stroke=\"#000000\" points=\"831.8038,-166.939 835.8081,-157.13 826.5608,-162.301 831.8038,-166.939\"/>\n</g>\n<!-- 11 -->\n<g id=\"node12\" class=\"node\">\n<title>11</title>\n<polygon fill=\"#55abe9\" stroke=\"#000000\" points=\"642.5,-53 535.5,-53 535.5,0 642.5,0 642.5,-53\"/>\n<text text-anchor=\"middle\" x=\"589\" y=\"-37.8\" font-family=\"Helvetica,sans-Serif\" font-size=\"14.00\" fill=\"#000000\">samples = 16</text>\n<text text-anchor=\"middle\" x=\"589\" y=\"-22.8\" font-family=\"Helvetica,sans-Serif\" font-size=\"14.00\" fill=\"#000000\">value = [2, 14]</text>\n<text text-anchor=\"middle\" x=\"589\" y=\"-7.8\" font-family=\"Helvetica,sans-Serif\" font-size=\"14.00\" fill=\"#000000\">class = Yes</text>\n</g>\n<!-- 10&#45;&gt;11 -->\n<g id=\"edge11\" class=\"edge\">\n<title>10&#45;&gt;11</title>\n<path fill=\"none\" stroke=\"#000000\" d=\"M649.8591,-88.9777C640.8502,-79.7292 631.0952,-69.7147 622.0891,-60.4691\"/>\n<polygon fill=\"#000000\" stroke=\"#000000\" points=\"624.5404,-57.9696 615.0555,-53.2485 619.5261,-62.8539 624.5404,-57.9696\"/>\n</g>\n<!-- 12 -->\n<g id=\"node13\" class=\"node\">\n<title>12</title>\n<polygon fill=\"#f2c09c\" stroke=\"#000000\" points=\"759.5,-53 660.5,-53 660.5,0 759.5,0 759.5,-53\"/>\n<text text-anchor=\"middle\" x=\"710\" y=\"-37.8\" font-family=\"Helvetica,sans-Serif\" font-size=\"14.00\" fill=\"#000000\">samples = 3</text>\n<text text-anchor=\"middle\" x=\"710\" y=\"-22.8\" font-family=\"Helvetica,sans-Serif\" font-size=\"14.00\" fill=\"#000000\">value = [2, 1]</text>\n<text text-anchor=\"middle\" x=\"710\" y=\"-7.8\" font-family=\"Helvetica,sans-Serif\" font-size=\"14.00\" fill=\"#000000\">class = No</text>\n</g>\n<!-- 10&#45;&gt;12 -->\n<g id=\"edge12\" class=\"edge\">\n<title>10&#45;&gt;12</title>\n<path fill=\"none\" stroke=\"#000000\" d=\"M692.5192,-88.9777C694.8763,-80.5533 697.4112,-71.4934 699.7993,-62.9579\"/>\n<polygon fill=\"#000000\" stroke=\"#000000\" points=\"703.192,-63.8217 702.516,-53.2485 696.4509,-61.9356 703.192,-63.8217\"/>\n</g>\n<!-- 14 -->\n<g id=\"node15\" class=\"node\">\n<title>14</title>\n<polygon fill=\"#f2be99\" stroke=\"#000000\" points=\"902,-53 778,-53 778,0 902,0 902,-53\"/>\n<text text-anchor=\"middle\" x=\"840\" y=\"-37.8\" font-family=\"Helvetica,sans-Serif\" font-size=\"14.00\" fill=\"#000000\">samples = 156</text>\n<text text-anchor=\"middle\" x=\"840\" y=\"-22.8\" font-family=\"Helvetica,sans-Serif\" font-size=\"14.00\" fill=\"#000000\">value = [105, 51]</text>\n<text text-anchor=\"middle\" x=\"840\" y=\"-7.8\" font-family=\"Helvetica,sans-Serif\" font-size=\"14.00\" fill=\"#000000\">class = No</text>\n</g>\n<!-- 13&#45;&gt;14 -->\n<g id=\"edge14\" class=\"edge\">\n<title>13&#45;&gt;14</title>\n<path fill=\"none\" stroke=\"#000000\" d=\"M856.8334,-88.9777C854.5636,-80.5533 852.1226,-71.4934 849.8229,-62.9579\"/>\n<polygon fill=\"#000000\" stroke=\"#000000\" points=\"853.1879,-61.9936 847.2068,-53.2485 846.429,-63.8147 853.1879,-61.9936\"/>\n</g>\n<!-- 15 -->\n<g id=\"node16\" class=\"node\">\n<title>15</title>\n<polygon fill=\"#fbece1\" stroke=\"#000000\" points=\"1052,-53 920,-53 920,0 1052,0 1052,-53\"/>\n<text text-anchor=\"middle\" x=\"986\" y=\"-37.8\" font-family=\"Helvetica,sans-Serif\" font-size=\"14.00\" fill=\"#000000\">samples = 392</text>\n<text text-anchor=\"middle\" x=\"986\" y=\"-22.8\" font-family=\"Helvetica,sans-Serif\" font-size=\"14.00\" fill=\"#000000\">value = [212, 180]</text>\n<text text-anchor=\"middle\" x=\"986\" y=\"-7.8\" font-family=\"Helvetica,sans-Serif\" font-size=\"14.00\" fill=\"#000000\">class = No</text>\n</g>\n<!-- 13&#45;&gt;15 -->\n<g id=\"edge15\" class=\"edge\">\n<title>13&#45;&gt;15</title>\n<path fill=\"none\" stroke=\"#000000\" d=\"M908.3075,-88.9777C920.1499,-79.4545 933.0021,-69.1191 944.7805,-59.6473\"/>\n<polygon fill=\"#000000\" stroke=\"#000000\" points=\"947.1382,-62.2427 952.7376,-53.2485 942.7514,-56.7877 947.1382,-62.2427\"/>\n</g>\n<!-- 17 -->\n<g id=\"node18\" class=\"node\">\n<title>17</title>\n<polygon fill=\"#cee7f9\" stroke=\"#000000\" points=\"1404.5,-261 1239.5,-261 1239.5,-193 1404.5,-193 1404.5,-261\"/>\n<text text-anchor=\"middle\" x=\"1322\" y=\"-245.8\" font-family=\"Helvetica,sans-Serif\" font-size=\"14.00\" fill=\"#000000\">TOT_CHOLE &lt;= 142.5</text>\n<text text-anchor=\"middle\" x=\"1322\" y=\"-230.8\" font-family=\"Helvetica,sans-Serif\" font-size=\"14.00\" fill=\"#000000\">samples = 559</text>\n<text text-anchor=\"middle\" x=\"1322\" y=\"-215.8\" font-family=\"Helvetica,sans-Serif\" font-size=\"14.00\" fill=\"#000000\">value = [240, 319]</text>\n<text text-anchor=\"middle\" x=\"1322\" y=\"-200.8\" font-family=\"Helvetica,sans-Serif\" font-size=\"14.00\" fill=\"#000000\">class = Yes</text>\n</g>\n<!-- 16&#45;&gt;17 -->\n<g id=\"edge17\" class=\"edge\">\n<title>16&#45;&gt;17</title>\n<path fill=\"none\" stroke=\"#000000\" d=\"M1322,-296.9465C1322,-288.776 1322,-279.9318 1322,-271.3697\"/>\n<polygon fill=\"#000000\" stroke=\"#000000\" points=\"1325.5001,-271.13 1322,-261.13 1318.5001,-271.13 1325.5001,-271.13\"/>\n</g>\n<!-- 24 -->\n<g id=\"node25\" class=\"node\">\n<title>24</title>\n<polygon fill=\"#7cbeee\" stroke=\"#000000\" points=\"1814.5,-261 1649.5,-261 1649.5,-193 1814.5,-193 1814.5,-261\"/>\n<text text-anchor=\"middle\" x=\"1732\" y=\"-245.8\" font-family=\"Helvetica,sans-Serif\" font-size=\"14.00\" fill=\"#000000\">TOT_CHOLE &lt;= 132.5</text>\n<text text-anchor=\"middle\" x=\"1732\" y=\"-230.8\" font-family=\"Helvetica,sans-Serif\" font-size=\"14.00\" fill=\"#000000\">samples = 1303</text>\n<text text-anchor=\"middle\" x=\"1732\" y=\"-215.8\" font-family=\"Helvetica,sans-Serif\" font-size=\"14.00\" fill=\"#000000\">value = [331, 972]</text>\n<text text-anchor=\"middle\" x=\"1732\" y=\"-200.8\" font-family=\"Helvetica,sans-Serif\" font-size=\"14.00\" fill=\"#000000\">class = Yes</text>\n</g>\n<!-- 16&#45;&gt;24 -->\n<g id=\"edge24\" class=\"edge\">\n<title>16&#45;&gt;24</title>\n<path fill=\"none\" stroke=\"#000000\" d=\"M1392.0157,-313.2399C1460.1984,-295.9448 1564.2438,-269.5528 1639.2738,-250.5208\"/>\n<polygon fill=\"#000000\" stroke=\"#000000\" points=\"1640.3661,-253.8546 1649.1986,-248.0033 1638.645,-247.0695 1640.3661,-253.8546\"/>\n</g>\n<!-- 18 -->\n<g id=\"node19\" class=\"node\">\n<title>18</title>\n<polygon fill=\"#f3c7a6\" stroke=\"#000000\" points=\"1310.5,-157 1145.5,-157 1145.5,-89 1310.5,-89 1310.5,-157\"/>\n<text text-anchor=\"middle\" x=\"1228\" y=\"-141.8\" font-family=\"Helvetica,sans-Serif\" font-size=\"14.00\" fill=\"#000000\">TOT_CHOLE &lt;= 134.5</text>\n<text text-anchor=\"middle\" x=\"1228\" y=\"-126.8\" font-family=\"Helvetica,sans-Serif\" font-size=\"14.00\" fill=\"#000000\">samples = 59</text>\n<text text-anchor=\"middle\" x=\"1228\" y=\"-111.8\" font-family=\"Helvetica,sans-Serif\" font-size=\"14.00\" fill=\"#000000\">value = [38, 21]</text>\n<text text-anchor=\"middle\" x=\"1228\" y=\"-96.8\" font-family=\"Helvetica,sans-Serif\" font-size=\"14.00\" fill=\"#000000\">class = No</text>\n</g>\n<!-- 17&#45;&gt;18 -->\n<g id=\"edge18\" class=\"edge\">\n<title>17&#45;&gt;18</title>\n<path fill=\"none\" stroke=\"#000000\" d=\"M1291.2209,-192.9465C1283.0245,-183.8782 1274.078,-173.9799 1265.5625,-164.5585\"/>\n<polygon fill=\"#000000\" stroke=\"#000000\" points=\"1268.1503,-162.2019 1258.8483,-157.13 1262.9571,-166.8957 1268.1503,-162.2019\"/>\n</g>\n<!-- 21 -->\n<g id=\"node22\" class=\"node\">\n<title>21</title>\n<polygon fill=\"#bfdff7\" stroke=\"#000000\" points=\"1505,-157 1329,-157 1329,-89 1505,-89 1505,-157\"/>\n<text text-anchor=\"middle\" x=\"1417\" y=\"-141.8\" font-family=\"Helvetica,sans-Serif\" font-size=\"14.00\" fill=\"#000000\">TRIGLYCERIDE &lt;= 62.5</text>\n<text text-anchor=\"middle\" x=\"1417\" y=\"-126.8\" font-family=\"Helvetica,sans-Serif\" font-size=\"14.00\" fill=\"#000000\">samples = 500</text>\n<text text-anchor=\"middle\" x=\"1417\" y=\"-111.8\" font-family=\"Helvetica,sans-Serif\" font-size=\"14.00\" fill=\"#000000\">value = [202, 298]</text>\n<text text-anchor=\"middle\" x=\"1417\" y=\"-96.8\" font-family=\"Helvetica,sans-Serif\" font-size=\"14.00\" fill=\"#000000\">class = Yes</text>\n</g>\n<!-- 17&#45;&gt;21 -->\n<g id=\"edge21\" class=\"edge\">\n<title>17&#45;&gt;21</title>\n<path fill=\"none\" stroke=\"#000000\" d=\"M1353.1066,-192.9465C1361.3901,-183.8782 1370.4318,-173.9799 1379.0379,-164.5585\"/>\n<polygon fill=\"#000000\" stroke=\"#000000\" points=\"1381.6633,-166.8739 1385.8236,-157.13 1376.495,-162.1528 1381.6633,-166.8739\"/>\n</g>\n<!-- 19 -->\n<g id=\"node20\" class=\"node\">\n<title>19</title>\n<polygon fill=\"#ffffff\" stroke=\"#000000\" points=\"1186,-53 1070,-53 1070,0 1186,0 1186,-53\"/>\n<text text-anchor=\"middle\" x=\"1128\" y=\"-37.8\" font-family=\"Helvetica,sans-Serif\" font-size=\"14.00\" fill=\"#000000\">samples = 32</text>\n<text text-anchor=\"middle\" x=\"1128\" y=\"-22.8\" font-family=\"Helvetica,sans-Serif\" font-size=\"14.00\" fill=\"#000000\">value = [16, 16]</text>\n<text text-anchor=\"middle\" x=\"1128\" y=\"-7.8\" font-family=\"Helvetica,sans-Serif\" font-size=\"14.00\" fill=\"#000000\">class = No</text>\n</g>\n<!-- 18&#45;&gt;19 -->\n<g id=\"edge19\" class=\"edge\">\n<title>18&#45;&gt;19</title>\n<path fill=\"none\" stroke=\"#000000\" d=\"M1192.7437,-88.9777C1183.0649,-79.6376 1172.5765,-69.5163 1162.9168,-60.1947\"/>\n<polygon fill=\"#000000\" stroke=\"#000000\" points=\"1165.3449,-57.674 1155.7186,-53.2485 1160.4841,-62.7111 1165.3449,-57.674\"/>\n</g>\n<!-- 20 -->\n<g id=\"node21\" class=\"node\">\n<title>20</title>\n<polygon fill=\"#eb9e66\" stroke=\"#000000\" points=\"1311.5,-53 1204.5,-53 1204.5,0 1311.5,0 1311.5,-53\"/>\n<text text-anchor=\"middle\" x=\"1258\" y=\"-37.8\" font-family=\"Helvetica,sans-Serif\" font-size=\"14.00\" fill=\"#000000\">samples = 27</text>\n<text text-anchor=\"middle\" x=\"1258\" y=\"-22.8\" font-family=\"Helvetica,sans-Serif\" font-size=\"14.00\" fill=\"#000000\">value = [22, 5]</text>\n<text text-anchor=\"middle\" x=\"1258\" y=\"-7.8\" font-family=\"Helvetica,sans-Serif\" font-size=\"14.00\" fill=\"#000000\">class = No</text>\n</g>\n<!-- 18&#45;&gt;20 -->\n<g id=\"edge20\" class=\"edge\">\n<title>18&#45;&gt;20</title>\n<path fill=\"none\" stroke=\"#000000\" d=\"M1238.5769,-88.9777C1241.1959,-80.5533 1244.0124,-71.4934 1246.6659,-62.9579\"/>\n<polygon fill=\"#000000\" stroke=\"#000000\" points=\"1250.0579,-63.8367 1249.6844,-53.2485 1243.3735,-61.7586 1250.0579,-63.8367\"/>\n</g>\n<!-- 22 -->\n<g id=\"node23\" class=\"node\">\n<title>22</title>\n<polygon fill=\"#83c2ef\" stroke=\"#000000\" points=\"1446,-53 1330,-53 1330,0 1446,0 1446,-53\"/>\n<text text-anchor=\"middle\" x=\"1388\" y=\"-37.8\" font-family=\"Helvetica,sans-Serif\" font-size=\"14.00\" fill=\"#000000\">samples = 92</text>\n<text text-anchor=\"middle\" x=\"1388\" y=\"-22.8\" font-family=\"Helvetica,sans-Serif\" font-size=\"14.00\" fill=\"#000000\">value = [25, 67]</text>\n<text text-anchor=\"middle\" x=\"1388\" y=\"-7.8\" font-family=\"Helvetica,sans-Serif\" font-size=\"14.00\" fill=\"#000000\">class = Yes</text>\n</g>\n<!-- 21&#45;&gt;22 -->\n<g id=\"edge22\" class=\"edge\">\n<title>21&#45;&gt;22</title>\n<path fill=\"none\" stroke=\"#000000\" d=\"M1406.7757,-88.9777C1404.244,-80.5533 1401.5213,-71.4934 1398.9563,-62.9579\"/>\n<polygon fill=\"#000000\" stroke=\"#000000\" points=\"1402.2684,-61.818 1396.0384,-53.2485 1395.5646,-63.8327 1402.2684,-61.818\"/>\n</g>\n<!-- 23 -->\n<g id=\"node24\" class=\"node\">\n<title>23</title>\n<polygon fill=\"#d1e8f9\" stroke=\"#000000\" points=\"1596,-53 1464,-53 1464,0 1596,0 1596,-53\"/>\n<text text-anchor=\"middle\" x=\"1530\" y=\"-37.8\" font-family=\"Helvetica,sans-Serif\" font-size=\"14.00\" fill=\"#000000\">samples = 408</text>\n<text text-anchor=\"middle\" x=\"1530\" y=\"-22.8\" font-family=\"Helvetica,sans-Serif\" font-size=\"14.00\" fill=\"#000000\">value = [177, 231]</text>\n<text text-anchor=\"middle\" x=\"1530\" y=\"-7.8\" font-family=\"Helvetica,sans-Serif\" font-size=\"14.00\" fill=\"#000000\">class = Yes</text>\n</g>\n<!-- 21&#45;&gt;23 -->\n<g id=\"edge23\" class=\"edge\">\n<title>21&#45;&gt;23</title>\n<path fill=\"none\" stroke=\"#000000\" d=\"M1456.8396,-88.9777C1467.8839,-79.546 1479.861,-69.3178 1490.8648,-59.9208\"/>\n<polygon fill=\"#000000\" stroke=\"#000000\" points=\"1493.3464,-62.4041 1498.6779,-53.2485 1488.8006,-57.081 1493.3464,-62.4041\"/>\n</g>\n<!-- 25 -->\n<g id=\"node26\" class=\"node\">\n<title>25</title>\n<polygon fill=\"#f5fafe\" stroke=\"#000000\" points=\"1802.5,-157 1661.5,-157 1661.5,-89 1802.5,-89 1802.5,-157\"/>\n<text text-anchor=\"middle\" x=\"1732\" y=\"-141.8\" font-family=\"Helvetica,sans-Serif\" font-size=\"14.00\" fill=\"#000000\">BP_HIGH &lt;= 133.5</text>\n<text text-anchor=\"middle\" x=\"1732\" y=\"-126.8\" font-family=\"Helvetica,sans-Serif\" font-size=\"14.00\" fill=\"#000000\">samples = 76</text>\n<text text-anchor=\"middle\" x=\"1732\" y=\"-111.8\" font-family=\"Helvetica,sans-Serif\" font-size=\"14.00\" fill=\"#000000\">value = [37, 39]</text>\n<text text-anchor=\"middle\" x=\"1732\" y=\"-96.8\" font-family=\"Helvetica,sans-Serif\" font-size=\"14.00\" fill=\"#000000\">class = Yes</text>\n</g>\n<!-- 24&#45;&gt;25 -->\n<g id=\"edge25\" class=\"edge\">\n<title>24&#45;&gt;25</title>\n<path fill=\"none\" stroke=\"#000000\" d=\"M1732,-192.9465C1732,-184.776 1732,-175.9318 1732,-167.3697\"/>\n<polygon fill=\"#000000\" stroke=\"#000000\" points=\"1735.5001,-167.13 1732,-157.13 1728.5001,-167.13 1735.5001,-167.13\"/>\n</g>\n<!-- 28 -->\n<g id=\"node29\" class=\"node\">\n<title>28</title>\n<polygon fill=\"#77bced\" stroke=\"#000000\" points=\"2014,-157 1882,-157 1882,-89 2014,-89 2014,-157\"/>\n<text text-anchor=\"middle\" x=\"1948\" y=\"-141.8\" font-family=\"Helvetica,sans-Serif\" font-size=\"14.00\" fill=\"#000000\">WEIGHT &lt;= 77.5</text>\n<text text-anchor=\"middle\" x=\"1948\" y=\"-126.8\" font-family=\"Helvetica,sans-Serif\" font-size=\"14.00\" fill=\"#000000\">samples = 1227</text>\n<text text-anchor=\"middle\" x=\"1948\" y=\"-111.8\" font-family=\"Helvetica,sans-Serif\" font-size=\"14.00\" fill=\"#000000\">value = [294, 933]</text>\n<text text-anchor=\"middle\" x=\"1948\" y=\"-96.8\" font-family=\"Helvetica,sans-Serif\" font-size=\"14.00\" fill=\"#000000\">class = Yes</text>\n</g>\n<!-- 24&#45;&gt;28 -->\n<g id=\"edge28\" class=\"edge\">\n<title>24&#45;&gt;28</title>\n<path fill=\"none\" stroke=\"#000000\" d=\"M1802.7265,-192.9465C1825.111,-182.1688 1849.9304,-170.2187 1872.6278,-159.2903\"/>\n<polygon fill=\"#000000\" stroke=\"#000000\" points=\"1874.3851,-162.3289 1881.8767,-154.8371 1871.3483,-156.0218 1874.3851,-162.3289\"/>\n</g>\n<!-- 26 -->\n<g id=\"node27\" class=\"node\">\n<title>26</title>\n<polygon fill=\"#b4daf5\" stroke=\"#000000\" points=\"1730,-53 1614,-53 1614,0 1730,0 1730,-53\"/>\n<text text-anchor=\"middle\" x=\"1672\" y=\"-37.8\" font-family=\"Helvetica,sans-Serif\" font-size=\"14.00\" fill=\"#000000\">samples = 47</text>\n<text text-anchor=\"middle\" x=\"1672\" y=\"-22.8\" font-family=\"Helvetica,sans-Serif\" font-size=\"14.00\" fill=\"#000000\">value = [18, 29]</text>\n<text text-anchor=\"middle\" x=\"1672\" y=\"-7.8\" font-family=\"Helvetica,sans-Serif\" font-size=\"14.00\" fill=\"#000000\">class = Yes</text>\n</g>\n<!-- 25&#45;&gt;26 -->\n<g id=\"edge26\" class=\"edge\">\n<title>25&#45;&gt;26</title>\n<path fill=\"none\" stroke=\"#000000\" d=\"M1710.8462,-88.9777C1705.3805,-80.187 1699.4846,-70.7044 1693.9778,-61.8477\"/>\n<polygon fill=\"#000000\" stroke=\"#000000\" points=\"1696.8837,-59.8927 1688.6312,-53.2485 1690.9391,-63.5889 1696.8837,-59.8927\"/>\n</g>\n<!-- 27 -->\n<g id=\"node28\" class=\"node\">\n<title>27</title>\n<polygon fill=\"#f3c3a1\" stroke=\"#000000\" points=\"1864,-53 1748,-53 1748,0 1864,0 1864,-53\"/>\n<text text-anchor=\"middle\" x=\"1806\" y=\"-37.8\" font-family=\"Helvetica,sans-Serif\" font-size=\"14.00\" fill=\"#000000\">samples = 29</text>\n<text text-anchor=\"middle\" x=\"1806\" y=\"-22.8\" font-family=\"Helvetica,sans-Serif\" font-size=\"14.00\" fill=\"#000000\">value = [19, 10]</text>\n<text text-anchor=\"middle\" x=\"1806\" y=\"-7.8\" font-family=\"Helvetica,sans-Serif\" font-size=\"14.00\" fill=\"#000000\">class = No</text>\n</g>\n<!-- 25&#45;&gt;27 -->\n<g id=\"edge27\" class=\"edge\">\n<title>25&#45;&gt;27</title>\n<path fill=\"none\" stroke=\"#000000\" d=\"M1758.0896,-88.9777C1764.9711,-80.0039 1772.4056,-70.3089 1779.3178,-61.295\"/>\n<polygon fill=\"#000000\" stroke=\"#000000\" points=\"1782.1804,-63.3137 1785.4882,-53.2485 1776.6256,-59.0541 1782.1804,-63.3137\"/>\n</g>\n<!-- 29 -->\n<g id=\"node30\" class=\"node\">\n<title>29</title>\n<polygon fill=\"#81c0ee\" stroke=\"#000000\" points=\"2014,-53 1882,-53 1882,0 2014,0 2014,-53\"/>\n<text text-anchor=\"middle\" x=\"1948\" y=\"-37.8\" font-family=\"Helvetica,sans-Serif\" font-size=\"14.00\" fill=\"#000000\">samples = 929</text>\n<text text-anchor=\"middle\" x=\"1948\" y=\"-22.8\" font-family=\"Helvetica,sans-Serif\" font-size=\"14.00\" fill=\"#000000\">value = [247, 682]</text>\n<text text-anchor=\"middle\" x=\"1948\" y=\"-7.8\" font-family=\"Helvetica,sans-Serif\" font-size=\"14.00\" fill=\"#000000\">class = Yes</text>\n</g>\n<!-- 28&#45;&gt;29 -->\n<g id=\"edge29\" class=\"edge\">\n<title>28&#45;&gt;29</title>\n<path fill=\"none\" stroke=\"#000000\" d=\"M1948,-88.9777C1948,-80.7364 1948,-71.887 1948,-63.5153\"/>\n<polygon fill=\"#000000\" stroke=\"#000000\" points=\"1951.5001,-63.2484 1948,-53.2485 1944.5001,-63.2485 1951.5001,-63.2484\"/>\n</g>\n<!-- 30 -->\n<g id=\"node31\" class=\"node\">\n<title>30</title>\n<polygon fill=\"#5eafea\" stroke=\"#000000\" points=\"2156,-53 2032,-53 2032,0 2156,0 2156,-53\"/>\n<text text-anchor=\"middle\" x=\"2094\" y=\"-37.8\" font-family=\"Helvetica,sans-Serif\" font-size=\"14.00\" fill=\"#000000\">samples = 298</text>\n<text text-anchor=\"middle\" x=\"2094\" y=\"-22.8\" font-family=\"Helvetica,sans-Serif\" font-size=\"14.00\" fill=\"#000000\">value = [47, 251]</text>\n<text text-anchor=\"middle\" x=\"2094\" y=\"-7.8\" font-family=\"Helvetica,sans-Serif\" font-size=\"14.00\" fill=\"#000000\">class = Yes</text>\n</g>\n<!-- 28&#45;&gt;30 -->\n<g id=\"edge30\" class=\"edge\">\n<title>28&#45;&gt;30</title>\n<path fill=\"none\" stroke=\"#000000\" d=\"M1999.4741,-88.9777C2014.298,-79.1798 2030.4224,-68.5222 2045.0865,-58.8298\"/>\n<polygon fill=\"#000000\" stroke=\"#000000\" points=\"2047.1183,-61.6824 2053.5308,-53.2485 2043.2585,-55.8427 2047.1183,-61.6824\"/>\n</g>\n</g>\n</svg>\n"
          },
          "metadata": {}
        }
      ]
    },
    {
      "cell_type": "markdown",
      "source": [
        "##주요변수들"
      ],
      "metadata": {
        "id": "jn5yjaknOVhm"
      }
    },
    {
      "cell_type": "code",
      "source": [
        "result = tree.feature_importances_\n",
        "print(\"변수의 중요도:\\n\", result)"
      ],
      "metadata": {
        "colab": {
          "base_uri": "https://localhost:8080/"
        },
        "id": "ci0YdfLVd4sd",
        "outputId": "1dcee83a-dd7f-4bc1-8998-ff72c8a93b6b"
      },
      "execution_count": 91,
      "outputs": [
        {
          "output_type": "stream",
          "name": "stdout",
          "text": [
            "변수의 중요도:\n",
            " [0.78938512 0.02150644 0.05475603 0.00870873 0.         0.0941961\n",
            " 0.03144759]\n"
          ]
        }
      ]
    },
    {
      "cell_type": "code",
      "source": [
        "import numpy as np\n",
        "\n",
        "def plot_feature_importances_wisc(model):\n",
        "    plt.rcParams[\"figure.figsize\"] = (9,6)\n",
        "    n_features = len(X.columns)\n",
        "    plt.barh(np.arange(n_features), model.feature_importances_, align='center') \n",
        "    plt.yticks(np.arange(n_features), X.columns)   # 30개의 눈금을 표시하고 눈금 레이블을 변수 이름으로 지정\n",
        "    plt.xlabel(\"feature importance\")\n",
        "    plt.ylabel(\"feature\")\n",
        "    plt.ylim(-1, n_features) #Y 축 범위 지정 (-1 ~ 30)\n",
        "\n",
        "plot_feature_importances_wisc(tree)"
      ],
      "metadata": {
        "colab": {
          "base_uri": "https://localhost:8080/",
          "height": 388
        },
        "id": "JdDjyiwU3h54",
        "outputId": "b2d242b3-f969-445b-9684-222a6a0a8615"
      },
      "execution_count": 92,
      "outputs": [
        {
          "output_type": "display_data",
          "data": {
            "text/plain": [
              "<Figure size 648x432 with 1 Axes>"
            ],
            "image/png": "[encoded data removed]"
          },
          "metadata": {
            "needs_background": "light"
          }
        }
      ]
    },
    {
      "cell_type": "code",
      "source": [
        "res = pd.DataFrame(result)\n",
        "res[\"name\"] =  X.columns\n",
        "display(res.info())\n",
        "\n",
        "# perimeter_worst의 비중이 가장 큼, 루트 노드에서 이 값부터 사용 \n",
        "display(res.sort_values(by='name'))  "
      ],
      "metadata": {
        "colab": {
          "base_uri": "https://localhost:8080/",
          "height": 449
        },
        "id": "ef00yair7WeQ",
        "outputId": "08819e2e-0f41-4660-a103-f6a12e864dc4"
      },
      "execution_count": 93,
      "outputs": [
        {
          "output_type": "stream",
          "name": "stdout",
          "text": [
            "<class 'pandas.core.frame.DataFrame'>\n",
            "RangeIndex: 7 entries, 0 to 6\n",
            "Data columns (total 2 columns):\n",
            " #   Column  Non-Null Count  Dtype  \n",
            "---  ------  --------------  -----  \n",
            " 0   0       7 non-null      float64\n",
            " 1   name    7 non-null      object \n",
            "dtypes: float64(1), object(1)\n",
            "memory usage: 240.0+ bytes\n"
          ]
        },
        {
          "output_type": "display_data",
          "data": {
            "text/plain": [
              "None"
            ]
          },
          "metadata": {}
        },
        {
          "output_type": "display_data",
          "data": {
            "text/plain": [
              "          0          name\n",
              "4  0.000000          BLDS\n",
              "2  0.054756       BP_HIGH\n",
              "3  0.008709       BP_LWST\n",
              "0  0.789385        HEIGHT\n",
              "5  0.094196     TOT_CHOLE\n",
              "6  0.031448  TRIGLYCERIDE\n",
              "1  0.021506        WEIGHT"
            ],
            "text/html": [
              "\n",
              "  <div id=\"df-143c2d22-7ed5-41a8-8d73-09dbd7714b67\">\n",
              "    <div class=\"colab-df-container\">\n",
              "      <div>\n",
              "<style scoped>\n",
              "    .dataframe tbody tr th:only-of-type {\n",
              "        vertical-align: middle;\n",
              "    }\n",
              "\n",
              "    .dataframe tbody tr th {\n",
              "        vertical-align: top;\n",
              "    }\n",
              "\n",
              "    .dataframe thead th {\n",
              "        text-align: right;\n",
              "    }\n",
              "</style>\n",
              "<table border=\"1\" class=\"dataframe\">\n",
              "  <thead>\n",
              "    <tr style=\"text-align: right;\">\n",
              "      <th></th>\n",
              "      <th>0</th>\n",
              "      <th>name</th>\n",
              "    </tr>\n",
              "  </thead>\n",
              "  <tbody>\n",
              "    <tr>\n",
              "      <th>4</th>\n",
              "      <td>0.000000</td>\n",
              "      <td>BLDS</td>\n",
              "    </tr>\n",
              "    <tr>\n",
              "      <th>2</th>\n",
              "      <td>0.054756</td>\n",
              "      <td>BP_HIGH</td>\n",
              "    </tr>\n",
              "    <tr>\n",
              "      <th>3</th>\n",
              "      <td>0.008709</td>\n",
              "      <td>BP_LWST</td>\n",
              "    </tr>\n",
              "    <tr>\n",
              "      <th>0</th>\n",
              "      <td>0.789385</td>\n",
              "      <td>HEIGHT</td>\n",
              "    </tr>\n",
              "    <tr>\n",
              "      <th>5</th>\n",
              "      <td>0.094196</td>\n",
              "      <td>TOT_CHOLE</td>\n",
              "    </tr>\n",
              "    <tr>\n",
              "      <th>6</th>\n",
              "      <td>0.031448</td>\n",
              "      <td>TRIGLYCERIDE</td>\n",
              "    </tr>\n",
              "    <tr>\n",
              "      <th>1</th>\n",
              "      <td>0.021506</td>\n",
              "      <td>WEIGHT</td>\n",
              "    </tr>\n",
              "  </tbody>\n",
              "</table>\n",
              "</div>\n",
              "      <button class=\"colab-df-convert\" onclick=\"convertToInteractive('df-143c2d22-7ed5-41a8-8d73-09dbd7714b67')\"\n",
              "              title=\"Convert this dataframe to an interactive table.\"\n",
              "              style=\"display:none;\">\n",
              "        \n",
              "  <svg xmlns=\"http://www.w3.org/2000/svg\" height=\"24px\"viewBox=\"0 0 24 24\"\n",
              "       width=\"24px\">\n",
              "    <path d=\"M0 0h24v24H0V0z\" fill=\"none\"/>\n",
              "    <path d=\"M18.56 5.44l.94 2.06.94-2.06 2.06-.94-2.06-.94-.94-2.06-.94 2.06-2.06.94zm-11 1L8.5 8.5l.94-2.06 2.06-.94-2.06-.94L8.5 2.5l-.94 2.06-2.06.94zm10 10l.94 2.06.94-2.06 2.06-.94-2.06-.94-.94-2.06-.94 2.06-2.06.94z\"/><path d=\"M17.41 7.96l-1.37-1.37c-.4-.4-.92-.59-1.43-.59-.52 0-1.04.2-1.43.59L10.3 9.45l-7.72 7.72c-.78.78-.78 2.05 0 2.83L4 21.41c.39.39.9.59 1.41.59.51 0 1.02-.2 1.41-.59l7.78-7.78 2.81-2.81c.8-.78.8-2.07 0-2.86zM5.41 20L4 18.59l7.72-7.72 1.47 1.35L5.41 20z\"/>\n",
              "  </svg>\n",
              "      </button>\n",
              "      \n",
              "  <style>\n",
              "    .colab-df-container {\n",
              "      display:flex;\n",
              "      flex-wrap:wrap;\n",
              "      gap: 12px;\n",
              "    }\n",
              "\n",
              "    .colab-df-convert {\n",
              "      background-color: #E8F0FE;\n",
              "      border: none;\n",
              "      border-radius: 50%;\n",
              "      cursor: pointer;\n",
              "      display: none;\n",
              "      fill: #1967D2;\n",
              "      height: 32px;\n",
              "      padding: 0 0 0 0;\n",
              "      width: 32px;\n",
              "    }\n",
              "\n",
              "    .colab-df-convert:hover {\n",
              "      background-color: #E2EBFA;\n",
              "      box-shadow: 0px 1px 2px rgba(60, 64, 67, 0.3), 0px 1px 3px 1px rgba(60, 64, 67, 0.15);\n",
              "      fill: #174EA6;\n",
              "    }\n",
              "\n",
              "    [theme=dark] .colab-df-convert {\n",
              "      background-color: #3B4455;\n",
              "      fill: #D2E3FC;\n",
              "    }\n",
              "\n",
              "    [theme=dark] .colab-df-convert:hover {\n",
              "      background-color: #434B5C;\n",
              "      box-shadow: 0px 1px 3px 1px rgba(0, 0, 0, 0.15);\n",
              "      filter: drop-shadow(0px 1px 2px rgba(0, 0, 0, 0.3));\n",
              "      fill: #FFFFFF;\n",
              "    }\n",
              "  </style>\n",
              "\n",
              "      <script>\n",
              "        const buttonEl =\n",
              "          document.querySelector('#df-143c2d22-7ed5-41a8-8d73-09dbd7714b67 button.colab-df-convert');\n",
              "        buttonEl.style.display =\n",
              "          google.colab.kernel.accessAllowed ? 'block' : 'none';\n",
              "\n",
              "        async function convertToInteractive(key) {\n",
              "          const element = document.querySelector('#df-143c2d22-7ed5-41a8-8d73-09dbd7714b67');\n",
              "          const dataTable =\n",
              "            await google.colab.kernel.invokeFunction('convertToInteractive',\n",
              "                                                     [key], {});\n",
              "          if (!dataTable) return;\n",
              "\n",
              "          const docLinkHtml = 'Like what you see? Visit the ' +\n",
              "            '<a target=\"_blank\" href=https://colab.research.google.com/notebooks/data_table.ipynb>data table notebook</a>'\n",
              "            + ' to learn more about interactive tables.';\n",
              "          element.innerHTML = '';\n",
              "          dataTable['output_type'] = 'display_data';\n",
              "          await google.colab.output.renderOutput(dataTable, element);\n",
              "          const docLink = document.createElement('div');\n",
              "          docLink.innerHTML = docLinkHtml;\n",
              "          element.appendChild(docLink);\n",
              "        }\n",
              "      </script>\n",
              "    </div>\n",
              "  </div>\n",
              "  "
            ]
          },
          "metadata": {}
        }
      ]
    },
    {
      "cell_type": "markdown",
      "source": [
        "##랜덤포레스트"
      ],
      "metadata": {
        "id": "v4NFCOd-OaTI"
      }
    },
    {
      "cell_type": "code",
      "source": [
        "from sklearn.ensemble import RandomForestClassifier\n"
      ],
      "metadata": {
        "id": "dJ7hGKK1_yeF"
      },
      "execution_count": 94,
      "outputs": []
    },
    {
      "cell_type": "code",
      "source": [
        "forest = RandomForestClassifier(n_estimators=100, random_state=0)\n",
        "forest.fit(X_train, y_train)\n",
        "\n",
        "print(\"학습용 데이터 세트 정확도: {:.3f}\".format(forest.score(X_train, y_train)))\n",
        "print(\"시험용 데이터 세트 정확도: {:.3f}\".format(forest.score(X_test, y_test)))"
      ],
      "metadata": {
        "colab": {
          "base_uri": "https://localhost:8080/"
        },
        "id": "3cZ-Ip0j_vMW",
        "outputId": "7ab5d346-0e4d-41bc-ea2a-a266cce952a3"
      },
      "execution_count": 95,
      "outputs": [
        {
          "output_type": "stream",
          "name": "stdout",
          "text": [
            "학습용 데이터 세트 정확도: 1.000\n",
            "시험용 데이터 세트 정확도: 0.648\n"
          ]
        }
      ]
    },
    {
      "cell_type": "code",
      "source": [
        "plot_feature_importances_wisc(forest)"
      ],
      "metadata": {
        "colab": {
          "base_uri": "https://localhost:8080/",
          "height": 388
        },
        "id": "uW1yJp5u_36v",
        "outputId": "a8379402-4721-4cf2-99df-e56c294c7c0d"
      },
      "execution_count": 96,
      "outputs": [
        {
          "output_type": "display_data",
          "data": {
            "text/plain": [
              "<Figure size 648x432 with 1 Axes>"
            ],
            "image/png": "[encoded data removed]"
          },
          "metadata": {
            "needs_background": "light"
          }
        }
      ]
    },
    {
      "cell_type": "code",
      "source": [
        "from sklearn.model_selection import cross_val_score\n",
        "\n",
        "# 교차 검증을 10번 수행하여 10번의 교차 검증 평균 정확도를 비교 (10-fold cross validation)\n",
        "# default cv=5\n",
        "\n",
        "dt_scores = cross_val_score(tree, X_train, y_train, cv=10, scoring='accuracy')  \n",
        "rf_scores = cross_val_score(forest, X_train, y_train, cv=10, scoring='accuracy')\n",
        "\n",
        "print(\"Accuracy\")\n",
        "print(\"Decision tree: \", dt_scores) \n",
        "print(\"Random forest: \", rf_scores) \n",
        "\n",
        "print(\"Accuracy mean\")\n",
        "print(\"Decision tree :{:.3f}\".format(dt_scores.mean())) \n",
        "print(\"Random forest :{:.3f}\".format(rf_scores.mean())) "
      ],
      "metadata": {
        "colab": {
          "base_uri": "https://localhost:8080/"
        },
        "id": "YvjHHF8I_9_t",
        "outputId": "5b5aadc7-aded-4766-de68-0a3816a60ddd"
      },
      "execution_count": 97,
      "outputs": [
        {
          "output_type": "stream",
          "name": "stdout",
          "text": [
            "Accuracy\n",
            "Decision tree:  [0.66118421 0.63157895 0.69966997 0.65676568 0.669967   0.67986799\n",
            " 0.64686469 0.68316832 0.65016502 0.67986799]\n",
            "Random forest:  [0.63815789 0.65131579 0.67656766 0.63036304 0.70627063 0.68646865\n",
            " 0.65676568 0.669967   0.64356436 0.64356436]\n",
            "Accuracy mean\n",
            "Decision tree :0.666\n",
            "Random forest :0.660\n"
          ]
        }
      ]
    },
    {
      "cell_type": "code",
      "source": [
        "cv_list = [    \n",
        "            ['decision_tree',dt_scores],\n",
        "            ['random_forest',rf_scores],\n",
        "          ]\n",
        "df = pd.DataFrame.from_dict(dict(cv_list))\n",
        "df.plot()"
      ],
      "metadata": {
        "colab": {
          "base_uri": "https://localhost:8080/",
          "height": 396
        },
        "id": "kOLPA-ljAB04",
        "outputId": "6e419d12-e30b-426c-a96e-5a86e6691d0f"
      },
      "execution_count": 98,
      "outputs": [
        {
          "output_type": "execute_result",
          "data": {
            "text/plain": [
              "<matplotlib.axes._subplots.AxesSubplot at 0x7f37d9b44a90>"
            ]
          },
          "metadata": {},
          "execution_count": 98
        },
        {
          "output_type": "display_data",
          "data": {
            "text/plain": [
              "<Figure size 648x432 with 1 Axes>"
            ],
            "image/png": "[encoded data removed]"
          },
          "metadata": {
            "needs_background": "light"
          }
        }
      ]
    },
    {
      "cell_type": "markdown",
      "source": [
        "##그래디언트 부스트"
      ],
      "metadata": {
        "id": "cbUnQbu-OgoV"
      }
    },
    {
      "cell_type": "code",
      "source": [
        "from sklearn.ensemble import GradientBoostingClassifier\n",
        "# 기본값은 max_depth= 3, n_estimators=100, learning_rate = 0.1\n",
        "\n",
        "gbrt = GradientBoostingClassifier(random_state=0)\n",
        "gbrt.fit(X_train, y_train)"
      ],
      "metadata": {
        "colab": {
          "base_uri": "https://localhost:8080/"
        },
        "id": "D_6av3h88OHb",
        "outputId": "733b8371-6f3c-45b5-e684-b7d0727af568"
      },
      "execution_count": 99,
      "outputs": [
        {
          "output_type": "execute_result",
          "data": {
            "text/plain": [
              "GradientBoostingClassifier(random_state=0)"
            ]
          },
          "metadata": {},
          "execution_count": 99
        }
      ]
    },
    {
      "cell_type": "code",
      "source": [
        "print(\"학습용 데이터 세트 정확도: {:.3f}\".format(gbrt.score(X_train, y_train)))\n",
        "print(\"시험용 데이터 세트 정확도: {:.3f}\".format(gbrt.score(X_test, y_test)))"
      ],
      "metadata": {
        "colab": {
          "base_uri": "https://localhost:8080/"
        },
        "id": "HswsBfmoAIzf",
        "outputId": "8d7f073f-532c-4bfd-a6e3-d4f44d6c345e"
      },
      "execution_count": 100,
      "outputs": [
        {
          "output_type": "stream",
          "name": "stdout",
          "text": [
            "학습용 데이터 세트 정확도: 0.723\n",
            "시험용 데이터 세트 정확도: 0.659\n"
          ]
        }
      ]
    },
    {
      "cell_type": "code",
      "source": [
        "plot_feature_importances_wisc(gbrt)"
      ],
      "metadata": {
        "colab": {
          "base_uri": "https://localhost:8080/",
          "height": 388
        },
        "id": "aRqcxDLW8RR6",
        "outputId": "1b25f79c-8c3e-4861-996c-720e9ea7634c"
      },
      "execution_count": 101,
      "outputs": [
        {
          "output_type": "display_data",
          "data": {
            "text/plain": [
              "<Figure size 648x432 with 1 Axes>"
            ],
            "image/png": "[encoded data removed]"
          },
          "metadata": {
            "needs_background": "light"
          }
        }
      ]
    },
    {
      "cell_type": "code",
      "source": [
        "gbrt = GradientBoostingClassifier(random_state=0, max_depth=2)\n",
        "gbrt.fit(X_train, y_train)\n",
        "\n",
        "print(\"학습 데이터 세트 정확도: {:.3f}\".format(gbrt.score(X_train, y_train)))\n",
        "print(\"시험용 데이터 세트 정확도: {:.3f}\".format(gbrt.score(X_test, y_test)))"
      ],
      "metadata": {
        "colab": {
          "base_uri": "https://localhost:8080/"
        },
        "id": "RHNo7j2v8T-t",
        "outputId": "2f3c7a3d-2be1-4c89-c907-2e92867a72f7"
      },
      "execution_count": 102,
      "outputs": [
        {
          "output_type": "stream",
          "name": "stdout",
          "text": [
            "학습 데이터 세트 정확도: 0.695\n",
            "시험용 데이터 세트 정확도: 0.661\n"
          ]
        }
      ]
    },
    {
      "cell_type": "code",
      "source": [
        "gbrt = GradientBoostingClassifier(random_state=0, learning_rate=0.01)\n",
        "gbrt.fit(X_train, y_train)\n",
        "\n",
        "print(\"학습 데이터 세트 정확도: {:.3f}\".format(gbrt.score(X_train, y_train)))\n",
        "print(\"시험용 데이터 세트 정확도: {:.3f}\".format(gbrt.score(X_test, y_test)))"
      ],
      "metadata": {
        "colab": {
          "base_uri": "https://localhost:8080/"
        },
        "id": "hRvXJsK58WiQ",
        "outputId": "3dede621-659a-4f4e-ac9b-50d983b1b583"
      },
      "execution_count": 103,
      "outputs": [
        {
          "output_type": "stream",
          "name": "stdout",
          "text": [
            "학습 데이터 세트 정확도: 0.681\n",
            "시험용 데이터 세트 정확도: 0.657\n"
          ]
        }
      ]
    },
    {
      "cell_type": "markdown",
      "source": [
        "##교차검증"
      ],
      "metadata": {
        "id": "E7Qq6-iTOoII"
      }
    },
    {
      "cell_type": "code",
      "source": [
        "dt_scores = cross_val_score(tree, X_train, y_train, cv=10, scoring='accuracy')  \n",
        "rf_scores = cross_val_score(forest, X_train, y_train, cv=10, scoring='accuracy')\n",
        "gbrt_scores = cross_val_score(gbrt, X_train, y_train, cv=10, scoring='accuracy')\n",
        "\n",
        "print(\"Accuracy\")\n",
        "print(\"Decision tree: \", dt_scores) \n",
        "print(\"Random forest: \", rf_scores) \n",
        "print(\"Gradient boosting: \", gbrt_scores) \n",
        "\n",
        "print(\"Accuracy mean\")\n",
        "print(\"Decision tree :{:.3f}\".format(dt_scores.mean())) \n",
        "print(\"Random forest :{:.3f}\".format(rf_scores.mean())) \n",
        "print(\"Gradient boosting :{:.3f}\".format(gbrt_scores.mean())) "
      ],
      "metadata": {
        "colab": {
          "base_uri": "https://localhost:8080/"
        },
        "id": "dKvVSqTG8Ys1",
        "outputId": "bf822c92-35c2-4e1b-ac27-a52541822737"
      },
      "execution_count": 104,
      "outputs": [
        {
          "output_type": "stream",
          "name": "stdout",
          "text": [
            "Accuracy\n",
            "Decision tree:  [0.66118421 0.63157895 0.69966997 0.65676568 0.669967   0.67986799\n",
            " 0.64686469 0.68316832 0.65016502 0.67986799]\n",
            "Random forest:  [0.63815789 0.65131579 0.67656766 0.63036304 0.70627063 0.68646865\n",
            " 0.65676568 0.669967   0.64356436 0.64356436]\n",
            "Gradient boosting:  [0.68092105 0.66118421 0.71947195 0.65676568 0.67656766 0.69636964\n",
            " 0.65016502 0.68976898 0.65346535 0.669967  ]\n",
            "Accuracy mean\n",
            "Decision tree :0.666\n",
            "Random forest :0.660\n",
            "Gradient boosting :0.675\n"
          ]
        }
      ]
    },
    {
      "cell_type": "code",
      "source": [
        "from sklearn.model_selection import StratifiedKFold\n",
        "kf = StratifiedKFold(n_splits=10)\n",
        "#from sklearn.model_selection import RepeatedStratifiedKFold\n",
        "#kf = RepeatedStratifiedKFold(n_splits=10)\n",
        "\n",
        "print(kf)\n",
        "\n",
        "dt_scores = cross_val_score(tree, X_train, y_train, cv=kf, scoring='accuracy')  \n",
        "rf_scores = cross_val_score(forest, X_train, y_train, cv=kf, scoring='accuracy')\n",
        "gbrt_scores = cross_val_score(gbrt, X_train, y_train, cv=kf, scoring='accuracy')\n",
        "\n",
        "print(\"Accuracy mean -- StratifiedKFold 이용\")\n",
        "print(\"Decision tree :{:.3f}\".format(dt_scores.mean())) \n",
        "print(\"Random forest :{:.3f}\".format(rf_scores.mean())) \n",
        "print(\"Gradient boosting :{:.3f}\".format(gbrt_scores.mean())) "
      ],
      "metadata": {
        "colab": {
          "base_uri": "https://localhost:8080/"
        },
        "id": "NQX7zkZD8fg_",
        "outputId": "dce3330f-6e83-4245-8363-723b6c2c6bcf"
      },
      "execution_count": 105,
      "outputs": [
        {
          "output_type": "stream",
          "name": "stdout",
          "text": [
            "StratifiedKFold(n_splits=10, random_state=None, shuffle=False)\n",
            "Accuracy mean -- StratifiedKFold 이용\n",
            "Decision tree :0.666\n",
            "Random forest :0.660\n",
            "Gradient boosting :0.675\n"
          ]
        }
      ]
    },
    {
      "cell_type": "markdown",
      "source": [
        "##그리드서치"
      ],
      "metadata": {
        "id": "gBWg45lYOtM2"
      }
    },
    {
      "cell_type": "code",
      "source": [
        "from sklearn.model_selection import GridSearchCV\n",
        "\n",
        "# 파라미터를 dictionary 형태로 설정\n",
        "parameters = {'max_depth':[1,2,3], 'learning_rate':[0.1,0.08, 0.06, 0.04, 0.02]}"
      ],
      "metadata": {
        "id": "gT1UEUYlAXU2"
      },
      "execution_count": 106,
      "outputs": []
    },
    {
      "cell_type": "code",
      "source": [
        "# param_grid의 파라미터들을 3개의 fold 로 나누어 검증\n",
        "# refit=True (기본값): 가장 좋은 파라미터 설정으로 재학습  \n",
        "init_gbrt = GradientBoostingClassifier(random_state=0)\n",
        "grid_gbrt = GridSearchCV(init_gbrt, param_grid=parameters, cv=3, refit=True)\n",
        "print(grid_gbrt)\n",
        "# 파라미터들을 순차적으로 학습, 검증\n",
        "grid_gbrt.fit(X_train, y_train)\n",
        "\n",
        "# GridSearchCV 결과 추출하여 DataFrame으로 변환\n",
        "scores_df = pd.DataFrame(grid_gbrt.cv_results_)\n",
        "scores_df[['params', 'mean_test_score', 'rank_test_score', 'split0_test_score', 'split1_test_score', 'split2_test_score']]"
      ],
      "metadata": {
        "colab": {
          "base_uri": "https://localhost:8080/",
          "height": 574
        },
        "id": "AO8KLvsnAaL5",
        "outputId": "c781768c-951e-449d-d124-c95d5d8206a8"
      },
      "execution_count": 107,
      "outputs": [
        {
          "output_type": "stream",
          "name": "stdout",
          "text": [
            "GridSearchCV(cv=3, estimator=GradientBoostingClassifier(random_state=0),\n",
            "             param_grid={'learning_rate': [0.1, 0.08, 0.06, 0.04, 0.02],\n",
            "                         'max_depth': [1, 2, 3]})\n"
          ]
        },
        {
          "output_type": "execute_result",
          "data": {
            "text/plain": [
              "                                     params  mean_test_score  rank_test_score  \\\n",
              "0    {'learning_rate': 0.1, 'max_depth': 1}         0.668863               14   \n",
              "1    {'learning_rate': 0.1, 'max_depth': 2}         0.673809                5   \n",
              "2    {'learning_rate': 0.1, 'max_depth': 3}         0.670181               12   \n",
              "3   {'learning_rate': 0.08, 'max_depth': 1}         0.669194               13   \n",
              "4   {'learning_rate': 0.08, 'max_depth': 2}         0.677439                2   \n",
              "5   {'learning_rate': 0.08, 'max_depth': 3}         0.666224               15   \n",
              "6   {'learning_rate': 0.06, 'max_depth': 1}         0.672822                7   \n",
              "7   {'learning_rate': 0.06, 'max_depth': 2}         0.674140                4   \n",
              "8   {'learning_rate': 0.06, 'max_depth': 3}         0.671501               11   \n",
              "9   {'learning_rate': 0.04, 'max_depth': 1}         0.671504               10   \n",
              "10  {'learning_rate': 0.04, 'max_depth': 2}         0.675130                3   \n",
              "11  {'learning_rate': 0.04, 'max_depth': 3}         0.673151                6   \n",
              "12  {'learning_rate': 0.02, 'max_depth': 1}         0.672163                8   \n",
              "13  {'learning_rate': 0.02, 'max_depth': 2}         0.671833                9   \n",
              "14  {'learning_rate': 0.02, 'max_depth': 3}         0.677439                1   \n",
              "\n",
              "    split0_test_score  split1_test_score  split2_test_score  \n",
              "0            0.675569           0.669634           0.661386  \n",
              "1            0.684471           0.674580           0.662376  \n",
              "2            0.694362           0.656775           0.659406  \n",
              "3            0.672601           0.668645           0.666337  \n",
              "4            0.686449           0.674580           0.671287  \n",
              "5            0.686449           0.655786           0.656436  \n",
              "6            0.677547           0.670623           0.670297  \n",
              "7            0.680514           0.674580           0.667327  \n",
              "8            0.693373           0.658754           0.662376  \n",
              "9            0.677547           0.664688           0.672277  \n",
              "10           0.682493           0.674580           0.668317  \n",
              "11           0.690406           0.661721           0.667327  \n",
              "12           0.680514           0.664688           0.671287  \n",
              "13           0.680514           0.664688           0.670297  \n",
              "14           0.691395           0.667656           0.673267  "
            ],
            "text/html": [
              "\n",
              "  <div id=\"df-4effeddf-aad6-4523-ab22-f4e99c5540e8\">\n",
              "    <div class=\"colab-df-container\">\n",
              "      <div>\n",
              "<style scoped>\n",
              "    .dataframe tbody tr th:only-of-type {\n",
              "        vertical-align: middle;\n",
              "    }\n",
              "\n",
              "    .dataframe tbody tr th {\n",
              "        vertical-align: top;\n",
              "    }\n",
              "\n",
              "    .dataframe thead th {\n",
              "        text-align: right;\n",
              "    }\n",
              "</style>\n",
              "<table border=\"1\" class=\"dataframe\">\n",
              "  <thead>\n",
              "    <tr style=\"text-align: right;\">\n",
              "      <th></th>\n",
              "      <th>params</th>\n",
              "      <th>mean_test_score</th>\n",
              "      <th>rank_test_score</th>\n",
              "      <th>split0_test_score</th>\n",
              "      <th>split1_test_score</th>\n",
              "      <th>split2_test_score</th>\n",
              "    </tr>\n",
              "  </thead>\n",
              "  <tbody>\n",
              "    <tr>\n",
              "      <th>0</th>\n",
              "      <td>{'learning_rate': 0.1, 'max_depth': 1}</td>\n",
              "      <td>0.668863</td>\n",
              "      <td>14</td>\n",
              "      <td>0.675569</td>\n",
              "      <td>0.669634</td>\n",
              "      <td>0.661386</td>\n",
              "    </tr>\n",
              "    <tr>\n",
              "      <th>1</th>\n",
              "      <td>{'learning_rate': 0.1, 'max_depth': 2}</td>\n",
              "      <td>0.673809</td>\n",
              "      <td>5</td>\n",
              "      <td>0.684471</td>\n",
              "      <td>0.674580</td>\n",
              "      <td>0.662376</td>\n",
              "    </tr>\n",
              "    <tr>\n",
              "      <th>2</th>\n",
              "      <td>{'learning_rate': 0.1, 'max_depth': 3}</td>\n",
              "      <td>0.670181</td>\n",
              "      <td>12</td>\n",
              "      <td>0.694362</td>\n",
              "      <td>0.656775</td>\n",
              "      <td>0.659406</td>\n",
              "    </tr>\n",
              "    <tr>\n",
              "      <th>3</th>\n",
              "      <td>{'learning_rate': 0.08, 'max_depth': 1}</td>\n",
              "      <td>0.669194</td>\n",
              "      <td>13</td>\n",
              "      <td>0.672601</td>\n",
              "      <td>0.668645</td>\n",
              "      <td>0.666337</td>\n",
              "    </tr>\n",
              "    <tr>\n",
              "      <th>4</th>\n",
              "      <td>{'learning_rate': 0.08, 'max_depth': 2}</td>\n",
              "      <td>0.677439</td>\n",
              "      <td>2</td>\n",
              "      <td>0.686449</td>\n",
              "      <td>0.674580</td>\n",
              "      <td>0.671287</td>\n",
              "    </tr>\n",
              "    <tr>\n",
              "      <th>5</th>\n",
              "      <td>{'learning_rate': 0.08, 'max_depth': 3}</td>\n",
              "      <td>0.666224</td>\n",
              "      <td>15</td>\n",
              "      <td>0.686449</td>\n",
              "      <td>0.655786</td>\n",
              "      <td>0.656436</td>\n",
              "    </tr>\n",
              "    <tr>\n",
              "      <th>6</th>\n",
              "      <td>{'learning_rate': 0.06, 'max_depth': 1}</td>\n",
              "      <td>0.672822</td>\n",
              "      <td>7</td>\n",
              "      <td>0.677547</td>\n",
              "      <td>0.670623</td>\n",
              "      <td>0.670297</td>\n",
              "    </tr>\n",
              "    <tr>\n",
              "      <th>7</th>\n",
              "      <td>{'learning_rate': 0.06, 'max_depth': 2}</td>\n",
              "      <td>0.674140</td>\n",
              "      <td>4</td>\n",
              "      <td>0.680514</td>\n",
              "      <td>0.674580</td>\n",
              "      <td>0.667327</td>\n",
              "    </tr>\n",
              "    <tr>\n",
              "      <th>8</th>\n",
              "      <td>{'learning_rate': 0.06, 'max_depth': 3}</td>\n",
              "      <td>0.671501</td>\n",
              "      <td>11</td>\n",
              "      <td>0.693373</td>\n",
              "      <td>0.658754</td>\n",
              "      <td>0.662376</td>\n",
              "    </tr>\n",
              "    <tr>\n",
              "      <th>9</th>\n",
              "      <td>{'learning_rate': 0.04, 'max_depth': 1}</td>\n",
              "      <td>0.671504</td>\n",
              "      <td>10</td>\n",
              "      <td>0.677547</td>\n",
              "      <td>0.664688</td>\n",
              "      <td>0.672277</td>\n",
              "    </tr>\n",
              "    <tr>\n",
              "      <th>10</th>\n",
              "      <td>{'learning_rate': 0.04, 'max_depth': 2}</td>\n",
              "      <td>0.675130</td>\n",
              "      <td>3</td>\n",
              "      <td>0.682493</td>\n",
              "      <td>0.674580</td>\n",
              "      <td>0.668317</td>\n",
              "    </tr>\n",
              "    <tr>\n",
              "      <th>11</th>\n",
              "      <td>{'learning_rate': 0.04, 'max_depth': 3}</td>\n",
              "      <td>0.673151</td>\n",
              "      <td>6</td>\n",
              "      <td>0.690406</td>\n",
              "      <td>0.661721</td>\n",
              "      <td>0.667327</td>\n",
              "    </tr>\n",
              "    <tr>\n",
              "      <th>12</th>\n",
              "      <td>{'learning_rate': 0.02, 'max_depth': 1}</td>\n",
              "      <td>0.672163</td>\n",
              "      <td>8</td>\n",
              "      <td>0.680514</td>\n",
              "      <td>0.664688</td>\n",
              "      <td>0.671287</td>\n",
              "    </tr>\n",
              "    <tr>\n",
              "      <th>13</th>\n",
              "      <td>{'learning_rate': 0.02, 'max_depth': 2}</td>\n",
              "      <td>0.671833</td>\n",
              "      <td>9</td>\n",
              "      <td>0.680514</td>\n",
              "      <td>0.664688</td>\n",
              "      <td>0.670297</td>\n",
              "    </tr>\n",
              "    <tr>\n",
              "      <th>14</th>\n",
              "      <td>{'learning_rate': 0.02, 'max_depth': 3}</td>\n",
              "      <td>0.677439</td>\n",
              "      <td>1</td>\n",
              "      <td>0.691395</td>\n",
              "      <td>0.667656</td>\n",
              "      <td>0.673267</td>\n",
              "    </tr>\n",
              "  </tbody>\n",
              "</table>\n",
              "</div>\n",
              "      <button class=\"colab-df-convert\" onclick=\"convertToInteractive('df-4effeddf-aad6-4523-ab22-f4e99c5540e8')\"\n",
              "              title=\"Convert this dataframe to an interactive table.\"\n",
              "              style=\"display:none;\">\n",
              "        \n",
              "  <svg xmlns=\"http://www.w3.org/2000/svg\" height=\"24px\"viewBox=\"0 0 24 24\"\n",
              "       width=\"24px\">\n",
              "    <path d=\"M0 0h24v24H0V0z\" fill=\"none\"/>\n",
              "    <path d=\"M18.56 5.44l.94 2.06.94-2.06 2.06-.94-2.06-.94-.94-2.06-.94 2.06-2.06.94zm-11 1L8.5 8.5l.94-2.06 2.06-.94-2.06-.94L8.5 2.5l-.94 2.06-2.06.94zm10 10l.94 2.06.94-2.06 2.06-.94-2.06-.94-.94-2.06-.94 2.06-2.06.94z\"/><path d=\"M17.41 7.96l-1.37-1.37c-.4-.4-.92-.59-1.43-.59-.52 0-1.04.2-1.43.59L10.3 9.45l-7.72 7.72c-.78.78-.78 2.05 0 2.83L4 21.41c.39.39.9.59 1.41.59.51 0 1.02-.2 1.41-.59l7.78-7.78 2.81-2.81c.8-.78.8-2.07 0-2.86zM5.41 20L4 18.59l7.72-7.72 1.47 1.35L5.41 20z\"/>\n",
              "  </svg>\n",
              "      </button>\n",
              "      \n",
              "  <style>\n",
              "    .colab-df-container {\n",
              "      display:flex;\n",
              "      flex-wrap:wrap;\n",
              "      gap: 12px;\n",
              "    }\n",
              "\n",
              "    .colab-df-convert {\n",
              "      background-color: #E8F0FE;\n",
              "      border: none;\n",
              "      border-radius: 50%;\n",
              "      cursor: pointer;\n",
              "      display: none;\n",
              "      fill: #1967D2;\n",
              "      height: 32px;\n",
              "      padding: 0 0 0 0;\n",
              "      width: 32px;\n",
              "    }\n",
              "\n",
              "    .colab-df-convert:hover {\n",
              "      background-color: #E2EBFA;\n",
              "      box-shadow: 0px 1px 2px rgba(60, 64, 67, 0.3), 0px 1px 3px 1px rgba(60, 64, 67, 0.15);\n",
              "      fill: #174EA6;\n",
              "    }\n",
              "\n",
              "    [theme=dark] .colab-df-convert {\n",
              "      background-color: #3B4455;\n",
              "      fill: #D2E3FC;\n",
              "    }\n",
              "\n",
              "    [theme=dark] .colab-df-convert:hover {\n",
              "      background-color: #434B5C;\n",
              "      box-shadow: 0px 1px 3px 1px rgba(0, 0, 0, 0.15);\n",
              "      filter: drop-shadow(0px 1px 2px rgba(0, 0, 0, 0.3));\n",
              "      fill: #FFFFFF;\n",
              "    }\n",
              "  </style>\n",
              "\n",
              "      <script>\n",
              "        const buttonEl =\n",
              "          document.querySelector('#df-4effeddf-aad6-4523-ab22-f4e99c5540e8 button.colab-df-convert');\n",
              "        buttonEl.style.display =\n",
              "          google.colab.kernel.accessAllowed ? 'block' : 'none';\n",
              "\n",
              "        async function convertToInteractive(key) {\n",
              "          const element = document.querySelector('#df-4effeddf-aad6-4523-ab22-f4e99c5540e8');\n",
              "          const dataTable =\n",
              "            await google.colab.kernel.invokeFunction('convertToInteractive',\n",
              "                                                     [key], {});\n",
              "          if (!dataTable) return;\n",
              "\n",
              "          const docLinkHtml = 'Like what you see? Visit the ' +\n",
              "            '<a target=\"_blank\" href=https://colab.research.google.com/notebooks/data_table.ipynb>data table notebook</a>'\n",
              "            + ' to learn more about interactive tables.';\n",
              "          element.innerHTML = '';\n",
              "          dataTable['output_type'] = 'display_data';\n",
              "          await google.colab.output.renderOutput(dataTable, element);\n",
              "          const docLink = document.createElement('div');\n",
              "          docLink.innerHTML = docLinkHtml;\n",
              "          element.appendChild(docLink);\n",
              "        }\n",
              "      </script>\n",
              "    </div>\n",
              "  </div>\n",
              "  "
            ]
          },
          "metadata": {},
          "execution_count": 107
        }
      ]
    },
    {
      "cell_type": "code",
      "source": [
        "print('GridSearchCV 최적 파라미터:', grid_gbrt.best_params_)\n",
        "print('GridSearchCV 최고 정확도: {0:.4f}'.format(grid_gbrt.best_score_))"
      ],
      "metadata": {
        "colab": {
          "base_uri": "https://localhost:8080/"
        },
        "id": "HvA5u1EQAhzy",
        "outputId": "0e557d7b-7f21-4baf-f8cc-76cb35969b8b"
      },
      "execution_count": 108,
      "outputs": [
        {
          "output_type": "stream",
          "name": "stdout",
          "text": [
            "GridSearchCV 최적 파라미터: {'learning_rate': 0.02, 'max_depth': 3}\n",
            "GridSearchCV 최고 정확도: 0.6774\n"
          ]
        }
      ]
    },
    {
      "cell_type": "code",
      "source": [
        "print(\"시험용 데이터 세트 정확도: {:.3f}\".format(grid_gbrt.score(X_test, y_test)))"
      ],
      "metadata": {
        "colab": {
          "base_uri": "https://localhost:8080/"
        },
        "id": "X4JMLLfxAkZQ",
        "outputId": "e6834190-723e-4c42-e991-6dcae4010ce0"
      },
      "execution_count": 109,
      "outputs": [
        {
          "output_type": "stream",
          "name": "stdout",
          "text": [
            "시험용 데이터 세트 정확도: 0.653\n"
          ]
        }
      ]
    },
    {
      "cell_type": "markdown",
      "source": [
        "## 정오분류표"
      ],
      "metadata": {
        "id": "hVsAUz__LyGw"
      }
    },
    {
      "cell_type": "code",
      "source": [
        "from sklearn.metrics import accuracy_score, precision_score, recall_score, f1_score\n",
        "from sklearn.metrics import confusion_matrix \n",
        "\n",
        "print(y_test.value_counts()) # y_test 의 분포\n",
        "\n",
        "tree.fit(X_train, y_train)\n",
        "dt_pred = tree.predict(X_test)\n",
        "rf_pred = forest.predict(X_test)\n",
        "grid_gbrt_pred = grid_gbrt.predict(X_test)\n",
        "\n",
        "# 예측 결과인 pred와 실제 결과인 y_test의 Confusion Matrix 출력\n",
        "print('Decision tree 시험용 데이터 세트 정확도:{:.3f}'.format(accuracy_score(y_test, dt_pred)))\n",
        "print(confusion_matrix(y_test, dt_pred))\n",
        "print('Random forest 시험용 데이터 세트 정확도:{:.3f}'.format(accuracy_score(y_test, rf_pred)))\n",
        "print(confusion_matrix(y_test, rf_pred))\n",
        "print('Gradient boosting 시험용 데이터 세트 정확도:{:.3f}'.format(accuracy_score(y_test, grid_gbrt_pred)))\n",
        "print(confusion_matrix(y_test, grid_gbrt_pred))"
      ],
      "metadata": {
        "colab": {
          "base_uri": "https://localhost:8080/"
        },
        "id": "0RqFaq1hAnEA",
        "outputId": "3791c5dd-ea3e-406b-b9d3-e2f72c065f56"
      },
      "execution_count": 110,
      "outputs": [
        {
          "output_type": "stream",
          "name": "stdout",
          "text": [
            "1    602\n",
            "0    409\n",
            "Name: DRK, dtype: int64\n",
            "Decision tree 시험용 데이터 세트 정확도:0.648\n",
            "[[220 189]\n",
            " [167 435]]\n",
            "Random forest 시험용 데이터 세트 정확도:0.648\n",
            "[[209 200]\n",
            " [156 446]]\n",
            "Gradient boosting 시험용 데이터 세트 정확도:0.653\n",
            "[[215 194]\n",
            " [157 445]]\n"
          ]
        }
      ]
    },
    {
      "cell_type": "code",
      "source": [
        "print('정밀도:{:.3f}'.format(precision_score (y_test, grid_gbrt_pred, average='binary', pos_label=1)))  # pos_label = 1 기본값\n",
        "print('TP (49) / TP+FP (52) = {:.3f}'.format(49/52))\n",
        "print('재현율:{:.3f}'.format(recall_score(y_test, grid_gbrt_pred, average='binary', pos_label=1)))\n",
        "print('TP (49) / TP+FN (51) = {:.3f}'.format(49/51))\n",
        "print('f1-measure:{:.3f}'.format(f1_score(y_test, grid_gbrt_pred, average='binary', pos_label=1)))\n",
        "print('2*(정밀도*재현율)/(정밀도+재현율) = {:.3f}'.format(2*0.942*0.961/(0.942+0.961)))"
      ],
      "metadata": {
        "colab": {
          "base_uri": "https://localhost:8080/"
        },
        "id": "xVNY5zsoIINp",
        "outputId": "39004328-5658-4b17-faba-6e35e0509c30"
      },
      "execution_count": 117,
      "outputs": [
        {
          "output_type": "stream",
          "name": "stdout",
          "text": [
            "정밀도:0.696\n",
            "TP (49) / TP+FP (52) = 0.942\n",
            "재현율:0.739\n",
            "TP (49) / TP+FN (51) = 0.961\n",
            "f1-measure:0.717\n",
            "2*(정밀도*재현율)/(정밀도+재현율) = 0.951\n"
          ]
        }
      ]
    },
    {
      "cell_type": "code",
      "source": [
        "from sklearn.metrics import classification_report\n",
        "\n",
        "print(\"Decision Tree:\")\n",
        "print(classification_report(y_test, dt_pred, target_names=[\"1\", \"0\"]))\n",
        "print(\"Random Forest:\")\n",
        "print(classification_report(y_test, rf_pred, target_names=[\"1\", \"0\"]))\n",
        "print(\"Gradient Boosting:\")\n",
        "print(classification_report(y_test, grid_gbrt_pred, target_names=[\"1\", \"0\"]))\n",
        "#1=음주 0=음주하지않음"
      ],
      "metadata": {
        "colab": {
          "base_uri": "https://localhost:8080/"
        },
        "id": "TPoBetSAIWDy",
        "outputId": "a35b48f8-3b6f-4974-d63f-83938695dc74"
      },
      "execution_count": 118,
      "outputs": [
        {
          "output_type": "stream",
          "name": "stdout",
          "text": [
            "Decision Tree:\n",
            "              precision    recall  f1-score   support\n",
            "\n",
            "           1       0.57      0.54      0.55       409\n",
            "           0       0.70      0.72      0.71       602\n",
            "\n",
            "    accuracy                           0.65      1011\n",
            "   macro avg       0.63      0.63      0.63      1011\n",
            "weighted avg       0.65      0.65      0.65      1011\n",
            "\n",
            "Random Forest:\n",
            "              precision    recall  f1-score   support\n",
            "\n",
            "           1       0.57      0.51      0.54       409\n",
            "           0       0.69      0.74      0.71       602\n",
            "\n",
            "    accuracy                           0.65      1011\n",
            "   macro avg       0.63      0.63      0.63      1011\n",
            "weighted avg       0.64      0.65      0.64      1011\n",
            "\n",
            "Gradient Boosting:\n",
            "              precision    recall  f1-score   support\n",
            "\n",
            "           1       0.58      0.53      0.55       409\n",
            "           0       0.70      0.74      0.72       602\n",
            "\n",
            "    accuracy                           0.65      1011\n",
            "   macro avg       0.64      0.63      0.63      1011\n",
            "weighted avg       0.65      0.65      0.65      1011\n",
            "\n"
          ]
        }
      ]
    },
    {
      "cell_type": "markdown",
      "source": [
        "## ROC (Receiver Operator Characteristic) 곡선과 AUC (Area Under the Curve)"
      ],
      "metadata": {
        "id": "NMQvxH0hO8zn"
      }
    },
    {
      "cell_type": "code",
      "source": [
        "from sklearn.metrics import roc_auc_score, roc_curve\n",
        "\n",
        "print(tree.predict_proba(X_test))\n",
        "\n",
        "fpr_dt, tpr_dt, cutoff_dt = roc_curve(y_test, tree.predict_proba(X_test)[:, 1], pos_label=1)\n",
        "fpr_rf, tpr_rf, cutoff_rf = roc_curve(y_test, forest.predict_proba(X_test)[:, 1], pos_label=1)\n",
        "fpr_gbrt, tpr_gbrt, cutoff_gbrt = roc_curve(y_test, grid_gbrt.predict_proba(X_test)[:, 1], pos_label=1)\n",
        "\n",
        "plt.plot(fpr_dt, tpr_dt, label=\"Decision Tree ROC Curve\")\n",
        "plt.plot(fpr_rf, tpr_rf, label=\"Random Forest ROC Curve\")\n",
        "plt.plot(fpr_gbrt, tpr_gbrt, label=\"Gradient Boosting ROC Curve\")\n",
        "plt.plot([0,1], [0, 1], \"k--\", label =\"Random\")\n",
        "\n",
        "plt.xlabel(\"False Positive Rate\")\n",
        "plt.ylabel(\"True Positive Rate\")\n",
        "\n",
        "plt.legend(loc=4)\n",
        "plt.show() "
      ],
      "metadata": {
        "colab": {
          "base_uri": "https://localhost:8080/",
          "height": 514
        },
        "id": "7k7JqXgsJPT3",
        "outputId": "95ea5b70-e1c1-4ddf-d5a1-4e9d49a57b96"
      },
      "execution_count": 120,
      "outputs": [
        {
          "output_type": "stream",
          "name": "stdout",
          "text": [
            "[[0.26587729 0.73412271]\n",
            " [0.54081633 0.45918367]\n",
            " [0.26587729 0.73412271]\n",
            " ...\n",
            " [0.43382353 0.56617647]\n",
            " [0.43382353 0.56617647]\n",
            " [0.54081633 0.45918367]]\n"
          ]
        },
        {
          "output_type": "display_data",
          "data": {
            "text/plain": [
              "<Figure size 648x432 with 1 Axes>"
            ],
            "image/png": "[encoded data removed]"
          },
          "metadata": {
            "needs_background": "light"
          }
        }
      ]
    },
    {
      "cell_type": "code",
      "source": [
        "auc_dt = roc_auc_score(y_test, tree.predict_proba(X_test)[:, 1])\n",
        "auc_rf = roc_auc_score(y_test, forest.predict_proba(X_test)[:, 1])\n",
        "auc_gbrt = roc_auc_score(y_test, grid_gbrt.predict_proba(X_test)[:, 1])\n",
        "print(\"Decision Tree의 AUC: {:.3f}\".format(auc_dt))\n",
        "print(\"Random Forest의 AUC: {:.3f}\".format(auc_rf))\n",
        "print(\"Gradient Boosting의 AUC: {:.3f}\".format(auc_gbrt)) ## AUC 면적이 가장 큰 모델"
      ],
      "metadata": {
        "colab": {
          "base_uri": "https://localhost:8080/"
        },
        "id": "eAM_IUHuMv8-",
        "outputId": "be6c8cac-c9a1-49ec-c8de-bf28e1a99d8d"
      },
      "execution_count": 121,
      "outputs": [
        {
          "output_type": "stream",
          "name": "stdout",
          "text": [
            "Decision Tree의 AUC: 0.668\n",
            "Random Forest의 AUC: 0.663\n",
            "Gradient Boosting의 AUC: 0.689\n"
          ]
        }
      ]
    },
    {
      "cell_type": "markdown",
      "source": [
        "##인사이트 도출\n",
        "타겟변수는 '음주여부'로 지정했다. 신장과 혈색소 등이 중요 변수로 나타났다.\n",
        "\n",
        "정확도 결과는 \n",
        "Decision tree :0.666\n",
        "Random forest :0.660\n",
        "Gradient boosting :0.675\n",
        "으로 나왔기 때문에 Gradient Boosting의 정확도가 가장 높은 것을 볼 수 있다.\n",
        "\n",
        "AUC 값은 \n",
        "Decision Tree는 0.668, \n",
        "Random Forest는 0.663, \n",
        "Gradient Boosting은 0.689\n",
        "로 나왔으므로, Gradient Boosting 모델을 사용한 AUC값이 가장 큰 것을 볼 수 있다.\n",
        "\n",
        "따라서 Gradient Boosting 모델을 사용했을 떄의 정확도가 가장 높은 것을 알 수 있다."
      ],
      "metadata": {
        "id": "FtVO-OFRM2zh"
      }
    }
  ]
}
